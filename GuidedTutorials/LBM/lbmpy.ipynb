{
 "cells": [
  {
   "cell_type": "markdown",
   "id": "a573b83a-d409-455d-8899-9babfe36b393",
   "metadata": {},
   "source": [
    "[Documentation of LBMPy](https://mybinder.org/v2/gh/mabau/lbmpy/master?filepath=doc%2Fnotebooks)\n",
    "\n",
    "[Enhanced MRT](https://journals.aps.org/pre/pdf/10.1103/PhysRevE.102.023307)\n",
    "\n",
    "[MRT Theory](https://journals.aps.org/pre/pdf/10.1103/PhysRevE.61.6546)"
   ]
  },
  {
   "cell_type": "code",
   "execution_count": 1,
   "id": "1e07d084-307b-4b99-af35-d44cec2bb3a9",
   "metadata": {},
   "outputs": [],
   "source": [
    "from lbmpy.session import *\n",
    "from lbmpy.chapman_enskog import ChapmanEnskogAnalysis"
   ]
  },
  {
   "cell_type": "code",
   "execution_count": 2,
   "id": "9ebccf2d-0863-4a8d-81e3-9520bfbc9962",
   "metadata": {},
   "outputs": [],
   "source": [
    "lb_config = LBMConfig(method=Method.MRT, stencil=Stencil.D3Q19, compressible=False, zero_centered=False)"
   ]
  },
  {
   "cell_type": "code",
   "execution_count": 6,
   "id": "b3abb5e9-b59e-45ae-832f-b6e0ab841448",
   "metadata": {},
   "outputs": [],
   "source": [
    "# LBStencil(Stencil.D3Q19).plot(data=list(range(19)))"
   ]
  },
  {
   "cell_type": "code",
   "execution_count": 7,
   "id": "f254ac1d-ee66-4a6c-ae70-4b711352a0f7",
   "metadata": {},
   "outputs": [
    {
     "data": {
      "image/png": "[encoded data removed]",
      "text/latex": [
       "$\\displaystyle \\left[ 1, \\  x, \\  y, \\  z, \\  x^{2}, \\  y^{2}, \\  z^{2}, \\  x y, \\  x z, \\  y z, \\  x^{2} y, \\  x^{2} z, \\  x y^{2}, \\  x z^{2}, \\  y^{2} z, \\  y z^{2}, \\  x^{2} y^{2}, \\  x^{2} z^{2}, \\  y^{2} z^{2}\\right]$"
      ],
      "text/plain": [
       "⎡             2   2   2                  2     2       2     2   2       2   2  2   2  2   2  2⎤\n",
       "⎣1, x, y, z, x , y , z , x⋅y, x⋅z, y⋅z, x ⋅y, x ⋅z, x⋅y , x⋅z , y ⋅z, y⋅z , x ⋅y , x ⋅z , y ⋅z ⎦"
      ]
     },
     "execution_count": 7,
     "metadata": {},
     "output_type": "execute_result"
    }
   ],
   "source": [
    "# Create Stencil\n",
    "stencil = LBStencil(Stencil.D3Q19)\n",
    "\n",
    "allMoments = lbmpy.moments.get_default_moment_set_for_stencil(stencil)\n",
    "allMoments"
   ]
  },
  {
   "cell_type": "code",
   "execution_count": 10,
   "id": "8f0867df-2141-4893-9e58-a7fc7e12cfcb",
   "metadata": {},
   "outputs": [
    {
     "data": {
      "text/latex": [
       "$\\displaystyle \\left[\\begin{matrix}1 & 1 & 1 & 1 & 1 & 1 & 1 & 1 & 1\\\\0 & 0 & 0 & -1 & 1 & -1 & 1 & -1 & 1\\\\0 & 1 & -1 & 0 & 0 & 1 & 1 & -1 & -1\\\\0 & -1 & -1 & 1 & 1 & 0 & 0 & 0 & 0\\\\0 & 0 & 0 & 0 & 0 & -1 & 1 & 1 & -1\\\\-2 & 1 & 1 & 1 & 1 & 4 & 4 & 4 & 4\\\\0 & -1 & 1 & 0 & 0 & 2 & 2 & -2 & -2\\\\0 & 0 & 0 & 1 & -1 & -2 & 2 & -2 & 2\\\\1 & -2 & -2 & -2 & -2 & 4 & 4 & 4 & 4\\end{matrix}\\right]$"
      ],
      "text/plain": [
       "⎡1   1   1   1   1   1   1  1   1 ⎤\n",
       "⎢                                 ⎥\n",
       "⎢0   0   0   -1  1   -1  1  -1  1 ⎥\n",
       "⎢                                 ⎥\n",
       "⎢0   1   -1  0   0   1   1  -1  -1⎥\n",
       "⎢                                 ⎥\n",
       "⎢0   -1  -1  1   1   0   0  0   0 ⎥\n",
       "⎢                                 ⎥\n",
       "⎢0   0   0   0   0   -1  1  1   -1⎥\n",
       "⎢                                 ⎥\n",
       "⎢-2  1   1   1   1   4   4  4   4 ⎥\n",
       "⎢                                 ⎥\n",
       "⎢0   -1  1   0   0   2   2  -2  -2⎥\n",
       "⎢                                 ⎥\n",
       "⎢0   0   0   1   -1  -2  2  -2  2 ⎥\n",
       "⎢                                 ⎥\n",
       "⎣1   -2  -2  -2  -2  4   4  4   4 ⎦"
      ]
     },
     "execution_count": 10,
     "metadata": {},
     "output_type": "execute_result"
    }
   ],
   "source": [
    "method = create_lb_method(LBMConfig(stencil=Stencil.D2Q9, method=Method.MRT, continuous_equilibrium=False, zero_centered=False))\n",
    "method.moment_matrix"
   ]
  },
  {
   "cell_type": "code",
   "execution_count": 11,
   "id": "3a25acf4-78d9-45a7-90d4-a6cd083b96be",
   "metadata": {},
   "outputs": [
    {
     "data": {
      "text/html": [
       "\n",
       "        <table style=\"border:none; width: 100%\">\n",
       "            <tr>\n",
       "                <th colspan=\"3\" style=\"text-align: left\">\n",
       "                    Moment-Based Method\n",
       "                </th>\n",
       "                <td>Stencil: D2Q9</td>\n",
       "                <td>Zero-Centered Storage: &#10007;</td>\n",
       "                <td>Force Model: None</td>\n",
       "            </tr>\n",
       "        </table>\n",
       "        \n",
       "        <table style=\"border:none; width: 100%\">\n",
       "            <tr>\n",
       "                <th colspan=\"3\" style=\"text-align: left\">\n",
       "                    Continuous Hydrodynamic Maxwellian Equilibrium\n",
       "                </th>\n",
       "                <td rowspan=\"2\" style=\"width: 50%; text-align: center\">\n",
       "                    $f (\\rho, \\left( u_{0}, \\  u_{1}\\right), \\left( v_{0}, \\  v_{1}\\right)) \n",
       "                        = \\frac{3 \\delta_{\\rho} e^{- \\frac{3 v_{0}^{2}}{2} - \\frac{3 v_{1}^{2}}{2}}}{2 \\pi} + \\frac{3 e^{- \\frac{3 \\left(- u_{0} + v_{0}\\right)^{2}}{2} - \\frac{3 \\left(- u_{1} + v_{1}\\right)^{2}}{2}}}{2 \\pi}$\n",
       "                </td>\n",
       "            </tr>\n",
       "            <tr>\n",
       "                <td>Compressible: &#10007;</td>\n",
       "                <td>Deviation Only: &#10007;</td>\n",
       "                <td>Order: 2</td>\n",
       "            </tr>\n",
       "        </table>\n",
       "        \n",
       "        <table style=\"border:none; width: 100%\">\n",
       "            <tr> <th colspan=\"3\" style=\"text-align: left\"> Relaxation Info </th> </tr>\n",
       "            <tr>\n",
       "                <th>Moment</th>\n",
       "                <th>Eq. Value </th>\n",
       "                <th>Relaxation Rate</th>\n",
       "            </tr>\n",
       "        <tr style=\"border:none\">\n",
       "                            <td style=\"border:none\">$1$</td>\n",
       "                            <td style=\"border:none\">$\\rho$</td>\n",
       "                            <td style=\"border:none\">$0.0$</td>\n",
       "                         </tr>\n",
       "<tr style=\"border:none\">\n",
       "                            <td style=\"border:none\">$x$</td>\n",
       "                            <td style=\"border:none\">$u_{0}$</td>\n",
       "                            <td style=\"border:none\">$0.0$</td>\n",
       "                         </tr>\n",
       "<tr style=\"border:none\">\n",
       "                            <td style=\"border:none\">$y$</td>\n",
       "                            <td style=\"border:none\">$u_{1}$</td>\n",
       "                            <td style=\"border:none\">$0.0$</td>\n",
       "                         </tr>\n",
       "<tr style=\"border:none\">\n",
       "                            <td style=\"border:none\">$x^{2} - y^{2}$</td>\n",
       "                            <td style=\"border:none\">$u_{0}^{2} - u_{1}^{2}$</td>\n",
       "                            <td style=\"border:none\">$\\omega_{shear}$</td>\n",
       "                         </tr>\n",
       "<tr style=\"border:none\">\n",
       "                            <td style=\"border:none\">$x y$</td>\n",
       "                            <td style=\"border:none\">$u_{0} u_{1}$</td>\n",
       "                            <td style=\"border:none\">$\\omega_{shear}$</td>\n",
       "                         </tr>\n",
       "<tr style=\"border:none\">\n",
       "                            <td style=\"border:none\">$3 x^{2} + 3 y^{2} - 2$</td>\n",
       "                            <td style=\"border:none\">$3 u_{0}^{2} + 3 u_{1}^{2}$</td>\n",
       "                            <td style=\"border:none\">$\\omega_{bulk}$</td>\n",
       "                         </tr>\n",
       "<tr style=\"border:none\">\n",
       "                            <td style=\"border:none\">$3 x^{2} y - y$</td>\n",
       "                            <td style=\"border:none\">$0$</td>\n",
       "                            <td style=\"border:none\">$\\omega_{3}$</td>\n",
       "                         </tr>\n",
       "<tr style=\"border:none\">\n",
       "                            <td style=\"border:none\">$3 x y^{2} - x$</td>\n",
       "                            <td style=\"border:none\">$0$</td>\n",
       "                            <td style=\"border:none\">$\\omega_{3}$</td>\n",
       "                         </tr>\n",
       "<tr style=\"border:none\">\n",
       "                            <td style=\"border:none\">$9 x^{2} y^{2} - 3 x^{2} - 3 y^{2} + 1$</td>\n",
       "                            <td style=\"border:none\">$0$</td>\n",
       "                            <td style=\"border:none\">$\\omega_{4}$</td>\n",
       "                         </tr>\n",
       "</table>"
      ],
      "text/plain": [
       "<lbmpy.methods.momentbased.momentbasedmethod.MomentBasedLbMethod at 0x7f6355accf40>"
      ]
     },
     "execution_count": 11,
     "metadata": {},
     "output_type": "execute_result"
    }
   ],
   "source": [
    "rr = [sp.Symbol('omega_shear'), sp.Symbol('omega_bulk'), sp.Symbol('omega_3'), sp.Symbol('omega_4')]\n",
    "\n",
    "lbm_config = LBMConfig(stencil=Stencil.D2Q9, method=Method.MRT, weighted=True, relaxation_rates=rr, zero_centered=False)\n",
    "# lbm_config = LBMConfig(stencil=Stencil.D2Q9, method=Method.MRT, weighted=True, zero_centered=False)\n",
    "weighted_ortho_mrt = create_lb_method(lbm_config=lbm_config)\n",
    "weighted_ortho_mrt"
   ]
  },
  {
   "cell_type": "code",
   "execution_count": 12,
   "id": "9b324475-60cc-4ebb-988c-4d9fcc6847a7",
   "metadata": {},
   "outputs": [
    {
     "data": {
      "image/png": "[encoded data removed]",
      "text/latex": [
       "$\\displaystyle \\left[ \\left[ 1\\right], \\  \\left[ x, \\  y\\right], \\  \\left[ 3 x^{2} + 3 y^{2} - 2, \\  x^{2} - y^{2}, \\  x y\\right], \\  \\left[ x \\left(3 x^{2} + 3 y^{2} - 4\\right), \\  y \\left(3 x^{2} + 3 y^{2} - 4\\right)\\right], \\  \\left[ - 15 x^{2} - 15 y^{2} + 9 \\left(x^{2} + y^{2}\\right)^{2} + 2\\right]\\right]$"
      ],
      "text/plain": [
       "⎡                                                                                          ⎡                             2    ⎤⎤\n",
       "⎢             ⎡   2      2       2    2     ⎤  ⎡  ⎛   2      2    ⎞    ⎛   2      2    ⎞⎤  ⎢      2       2     ⎛ 2    2⎞     ⎥⎥\n",
       "⎣[1], [x, y], ⎣3⋅x  + 3⋅y  - 2, x  - y , x⋅y⎦, ⎣x⋅⎝3⋅x  + 3⋅y  - 4⎠, y⋅⎝3⋅x  + 3⋅y  - 4⎠⎦, ⎣- 15⋅x  - 15⋅y  + 9⋅⎝x  + y ⎠  + 2⎦⎦"
      ]
     },
     "execution_count": 12,
     "metadata": {},
     "output_type": "execute_result"
    }
   ],
   "source": [
    "from lbmpy.methods import mrt_orthogonal_modes_literature\n",
    "from lbmpy.stencils import get_stencil\n",
    "from lbmpy.moments import MOMENT_SYMBOLS\n",
    "\n",
    "x, y, z = MOMENT_SYMBOLS\n",
    "\n",
    "moments = mrt_orthogonal_modes_literature(LBStencil(Stencil.D2Q9), is_weighted=True)\n",
    "moments"
   ]
  },
  {
   "cell_type": "code",
   "execution_count": 13,
   "id": "1cd91ac1-3e16-4bce-8ccc-498724cef7bf",
   "metadata": {},
   "outputs": [
    {
     "data": {
      "text/html": [
       "\n",
       "        <table style=\"border:none; width: 100%\">\n",
       "            <tr>\n",
       "                <th colspan=\"3\" style=\"text-align: left\">\n",
       "                    Moment-Based Method\n",
       "                </th>\n",
       "                <td>Stencil: D2Q9</td>\n",
       "                <td>Zero-Centered Storage: &#10007;</td>\n",
       "                <td>Force Model: None</td>\n",
       "            </tr>\n",
       "        </table>\n",
       "        \n",
       "        <div style=\"max-height: 150pt; overflow-y: auto;\">\n",
       "        <table style=\"border:none; width: 100%\">\n",
       "            <tr>\n",
       "                <th colspan=\"3\" style=\"text-align: left\">\n",
       "                    Discrete Hydrodynamic Maxwellian Equilibrium\n",
       "                </th>\n",
       "                <td>Compressible: &#10007;</td>\n",
       "                <td>Deviation Only: &#10007;</td>\n",
       "                <td>Order: 2</td>\n",
       "            </tr>\n",
       "        <tr><td colspan=\"6\" style=\"text-align: left;\"> $f_0 = \\frac{4 \\rho}{9} - \\frac{2 u_{0}^{2}}{3} - \\frac{2 u_{1}^{2}}{3}$ </td></tr><tr><td colspan=\"6\" style=\"text-align: left;\"> $f_1 = \\frac{\\rho}{9} - \\frac{u_{0}^{2}}{6} + \\frac{u_{1}^{2}}{3} + \\frac{u_{1}}{3}$ </td></tr><tr><td colspan=\"6\" style=\"text-align: left;\"> $f_2 = \\frac{\\rho}{9} - \\frac{u_{0}^{2}}{6} + \\frac{u_{1}^{2}}{3} - \\frac{u_{1}}{3}$ </td></tr><tr><td colspan=\"6\" style=\"text-align: left;\"> $f_3 = \\frac{\\rho}{9} + \\frac{u_{0}^{2}}{3} - \\frac{u_{0}}{3} - \\frac{u_{1}^{2}}{6}$ </td></tr><tr><td colspan=\"6\" style=\"text-align: left;\"> $f_4 = \\frac{\\rho}{9} + \\frac{u_{0}^{2}}{3} + \\frac{u_{0}}{3} - \\frac{u_{1}^{2}}{6}$ </td></tr><tr><td colspan=\"6\" style=\"text-align: left;\"> $f_5 = \\frac{\\rho}{36} - \\frac{u_{0}^{2}}{24} - \\frac{u_{0}}{12} - \\frac{u_{1}^{2}}{24} + \\frac{u_{1}}{12} + \\frac{\\left(- u_{0} + u_{1}\\right)^{2}}{8}$ </td></tr><tr><td colspan=\"6\" style=\"text-align: left;\"> $f_6 = \\frac{\\rho}{36} - \\frac{u_{0}^{2}}{24} + \\frac{u_{0}}{12} - \\frac{u_{1}^{2}}{24} + \\frac{u_{1}}{12} + \\frac{\\left(u_{0} + u_{1}\\right)^{2}}{8}$ </td></tr><tr><td colspan=\"6\" style=\"text-align: left;\"> $f_7 = \\frac{\\rho}{36} - \\frac{u_{0}^{2}}{24} - \\frac{u_{0}}{12} - \\frac{u_{1}^{2}}{24} - \\frac{u_{1}}{12} + \\frac{\\left(- u_{0} - u_{1}\\right)^{2}}{8}$ </td></tr><tr><td colspan=\"6\" style=\"text-align: left;\"> $f_8 = \\frac{\\rho}{36} - \\frac{u_{0}^{2}}{24} + \\frac{u_{0}}{12} - \\frac{u_{1}^{2}}{24} - \\frac{u_{1}}{12} + \\frac{\\left(u_{0} - u_{1}\\right)^{2}}{8}$ </td></tr></table></div>\n",
       "        <table style=\"border:none; width: 100%\">\n",
       "            <tr> <th colspan=\"3\" style=\"text-align: left\"> Relaxation Info </th> </tr>\n",
       "            <tr>\n",
       "                <th>Moment</th>\n",
       "                <th>Eq. Value </th>\n",
       "                <th>Relaxation Rate</th>\n",
       "            </tr>\n",
       "        <tr style=\"border:none\">\n",
       "                            <td style=\"border:none\">$1$</td>\n",
       "                            <td style=\"border:none\">$\\rho$</td>\n",
       "                            <td style=\"border:none\">$0.0$</td>\n",
       "                         </tr>\n",
       "<tr style=\"border:none\">\n",
       "                            <td style=\"border:none\">$x$</td>\n",
       "                            <td style=\"border:none\">$u_{0}$</td>\n",
       "                            <td style=\"border:none\">$0.0$</td>\n",
       "                         </tr>\n",
       "<tr style=\"border:none\">\n",
       "                            <td style=\"border:none\">$y$</td>\n",
       "                            <td style=\"border:none\">$u_{1}$</td>\n",
       "                            <td style=\"border:none\">$0.0$</td>\n",
       "                         </tr>\n",
       "<tr style=\"border:none\">\n",
       "                            <td style=\"border:none\">$3 x^{2} + 3 y^{2} - 2$</td>\n",
       "                            <td style=\"border:none\">$3 u_{0}^{2} + 3 u_{1}^{2}$</td>\n",
       "                            <td style=\"border:none\">$\\omega_{bulk}$</td>\n",
       "                         </tr>\n",
       "<tr style=\"border:none\">\n",
       "                            <td style=\"border:none\">$x^{2} - y^{2}$</td>\n",
       "                            <td style=\"border:none\">$u_{0}^{2} - u_{1}^{2}$</td>\n",
       "                            <td style=\"border:none\">$\\omega_{shear}$</td>\n",
       "                         </tr>\n",
       "<tr style=\"border:none\">\n",
       "                            <td style=\"border:none\">$x y$</td>\n",
       "                            <td style=\"border:none\">$u_{0} u_{1}$</td>\n",
       "                            <td style=\"border:none\">$\\omega_{shear}$</td>\n",
       "                         </tr>\n",
       "<tr style=\"border:none\">\n",
       "                            <td style=\"border:none\">$x \\left(3 x^{2} + 3 y^{2} - 4\\right)$</td>\n",
       "                            <td style=\"border:none\">$0$</td>\n",
       "                            <td style=\"border:none\">$\\omega_{3}$</td>\n",
       "                         </tr>\n",
       "<tr style=\"border:none\">\n",
       "                            <td style=\"border:none\">$y \\left(3 x^{2} + 3 y^{2} - 4\\right)$</td>\n",
       "                            <td style=\"border:none\">$0$</td>\n",
       "                            <td style=\"border:none\">$\\omega_{3}$</td>\n",
       "                         </tr>\n",
       "<tr style=\"border:none\">\n",
       "                            <td style=\"border:none\">$- 15 x^{2} - 15 y^{2} + 9 \\left(x^{2} + y^{2}\\right)^{2} + 2$</td>\n",
       "                            <td style=\"border:none\">$0$</td>\n",
       "                            <td style=\"border:none\">$\\omega_{4}$</td>\n",
       "                         </tr>\n",
       "</table>"
      ],
      "text/plain": [
       "<lbmpy.methods.momentbased.momentbasedmethod.MomentBasedLbMethod at 0x7f635992bcd0>"
      ]
     },
     "execution_count": 13,
     "metadata": {},
     "output_type": "execute_result"
    }
   ],
   "source": [
    "method = create_lb_method(LBMConfig(stencil=Stencil.D2Q9, method=Method.MRT, nested_moments=moments,\n",
    "                           relaxation_rates=rr, continuous_equilibrium=False, zero_centered=False))\n",
    "method"
   ]
  },
  {
   "cell_type": "code",
   "execution_count": 14,
   "id": "63d9831c-cec2-4d6b-9197-10330bcd7137",
   "metadata": {},
   "outputs": [
    {
     "data": {
      "image/png": "[encoded data removed]",
      "text/latex": [
       "$\\displaystyle \\left[ \\left[ 1, \\  x, \\  y, \\  z\\right], \\  \\left[ x^{2} + y^{2} + z^{2} - 1\\right], \\  \\left[ - 6 x^{2} - 6 y^{2} - 6 z^{2} + 3 \\left(x^{2} + y^{2} + z^{2}\\right)^{2} + 1\\right], \\  \\left[ x \\left(3 x^{2} + 3 y^{2} + 3 z^{2} - 5\\right), \\  y \\left(3 x^{2} + 3 y^{2} + 3 z^{2} - 5\\right), \\  z \\left(3 x^{2} + 3 y^{2} + 3 z^{2} - 5\\right)\\right], \\  \\left[ 2 x^{2} - y^{2} - z^{2}, \\  y^{2} - z^{2}, \\  x y, \\  y z, \\  x z\\right], \\  \\left[ \\left(2 x^{2} - y^{2} - z^{2}\\right) \\left(2 x^{2} + 2 y^{2} + 2 z^{2} - 3\\right), \\  \\left(y^{2} - z^{2}\\right) \\left(2 x^{2} + 2 y^{2} + 2 z^{2} - 3\\right)\\right], \\  \\left[ x \\left(y^{2} - z^{2}\\right), \\  y \\left(- x^{2} + z^{2}\\right), \\  z \\left(x^{2} - y^{2}\\right)\\right]\\right]$"
      ],
      "text/plain": [
       "⎡                                  ⎡                                       2    ⎤                                                                                                                        \n",
       "⎢              ⎡ 2    2    2    ⎤  ⎢     2      2      2     ⎛ 2    2    2⎞     ⎥  ⎡  ⎛   2      2      2    ⎞    ⎛   2      2      2    ⎞    ⎛   2      2      2    ⎞⎤  ⎡   2    2    2   2    2        \n",
       "⎣[1, x, y, z], ⎣x  + y  + z  - 1⎦, ⎣- 6⋅x  - 6⋅y  - 6⋅z  + 3⋅⎝x  + y  + z ⎠  + 1⎦, ⎣x⋅⎝3⋅x  + 3⋅y  + 3⋅z  - 5⎠, y⋅⎝3⋅x  + 3⋅y  + 3⋅z  - 5⎠, z⋅⎝3⋅x  + 3⋅y  + 3⋅z  - 5⎠⎦, ⎣2⋅x  - y  - z , y  - z , x⋅y, y\n",
       "\n",
       "                                                                                                                                    ⎤\n",
       "       ⎤  ⎡⎛   2    2    2⎞ ⎛   2      2      2    ⎞  ⎛ 2    2⎞ ⎛   2      2      2    ⎞⎤  ⎡  ⎛ 2    2⎞    ⎛   2    2⎞    ⎛ 2    2⎞⎤⎥\n",
       "⋅z, x⋅z⎦, ⎣⎝2⋅x  - y  - z ⎠⋅⎝2⋅x  + 2⋅y  + 2⋅z  - 3⎠, ⎝y  - z ⎠⋅⎝2⋅x  + 2⋅y  + 2⋅z  - 3⎠⎦, ⎣x⋅⎝y  - z ⎠, y⋅⎝- x  + z ⎠, z⋅⎝x  - y ⎠⎦⎦"
      ]
     },
     "execution_count": 14,
     "metadata": {},
     "output_type": "execute_result"
    }
   ],
   "source": [
    "moments = mrt_orthogonal_modes_literature(LBStencil(Stencil.D3Q19), is_weighted=True)\n",
    "moments"
   ]
  },
  {
   "cell_type": "code",
   "execution_count": 17,
   "id": "b03c01c7-60e0-49cf-87ae-800b331b71ba",
   "metadata": {},
   "outputs": [
    {
     "data": {
      "text/plain": [
       "sympy.core.numbers.One"
      ]
     },
     "execution_count": 17,
     "metadata": {},
     "output_type": "execute_result"
    }
   ],
   "source": [
    "type(moments[0][0])"
   ]
  },
  {
   "cell_type": "code",
   "execution_count": 21,
   "id": "31b89260-f2a9-41d4-91fc-f41bf13065aa",
   "metadata": {},
   "outputs": [
    {
     "data": {
      "text/plain": [
       "sympy.core.numbers.One"
      ]
     },
     "execution_count": 21,
     "metadata": {},
     "output_type": "execute_result"
    }
   ],
   "source": [
    "# sp.core.sympify.sympify(1)\n",
    "# a = sp.core.sympify(1)"
   ]
  },
  {
   "cell_type": "code",
   "execution_count": 22,
   "id": "497ee084-21b1-4184-9361-215207974316",
   "metadata": {},
   "outputs": [
    {
     "data": {
      "image/png": "[encoded data removed]",
      "text/latex": [
       "$\\displaystyle \\left[ \\left[ 1, \\  x, \\  y, \\  z\\right], \\  \\left[ x^{2} + y^{2} + z^{2} - 3, \\  8 x^{2} - y^{2} - z^{2}, \\  y^{2} - z^{2}, \\  x y, \\  y z, \\  x z\\right], \\  \\left[ x \\left(3 x^{2} - 5\\right) + x \\left(3 y^{2} - 5\\right) + x \\left(3 z^{2} - 5\\right), \\  y \\left(3 x^{2} - 5\\right) + y \\left(3 y^{2} - 5\\right) + y \\left(3 z^{2} - 5\\right), \\  z \\left(3 x^{2} - 5\\right) + z \\left(3 y^{2} - 5\\right) + z \\left(3 z^{2} - 5\\right), \\  x \\left(y^{2} - z^{2}\\right), \\  y \\left(- x^{2} + z^{2}\\right), \\  z \\left(x^{2} - y^{2}\\right)\\right], \\  \\left[ 3 x^{4} - 6 x^{2} + 3 y^{4} - 6 y^{2} + 3 z^{4} - 6 z^{2} + 3, \\  \\left(2 x^{2} - 3\\right) \\left(3 x^{2} - x\\right) + \\left(3 x^{2} - y\\right) \\left(2 y^{2} - 3\\right) + \\left(3 x^{2} - z\\right) \\left(2 z^{2} - 3\\right), \\  \\left(2 x^{2} - 3\\right) \\left(y^{2} - z^{2}\\right) + \\left(y^{2} - z^{2}\\right) \\left(2 y^{2} - 3\\right) + \\left(y^{2} - z^{2}\\right) \\left(2 z^{2} - 3\\right)\\right]\\right]$"
      ],
      "text/plain": [
       "⎡              ⎡ 2    2    2         2    2    2   2    2               ⎤  ⎡  ⎛   2    ⎞     ⎛   2    ⎞     ⎛   2    ⎞    ⎛   2    ⎞     ⎛   2    ⎞     ⎛   2    ⎞    ⎛   2    ⎞     ⎛   2    ⎞     ⎛   2\n",
       "⎣[1, x, y, z], ⎣x  + y  + z  - 3, 8⋅x  - y  - z , y  - z , x⋅y, y⋅z, x⋅z⎦, ⎣x⋅⎝3⋅x  - 5⎠ + x⋅⎝3⋅y  - 5⎠ + x⋅⎝3⋅z  - 5⎠, y⋅⎝3⋅x  - 5⎠ + y⋅⎝3⋅y  - 5⎠ + y⋅⎝3⋅z  - 5⎠, z⋅⎝3⋅x  - 5⎠ + z⋅⎝3⋅y  - 5⎠ + z⋅⎝3⋅z \n",
       "\n",
       "    ⎞    ⎛ 2    2⎞    ⎛   2    2⎞    ⎛ 2    2⎞⎤  ⎡   4      2      4      2      4      2      ⎛   2    ⎞ ⎛   2    ⎞   ⎛   2    ⎞ ⎛   2    ⎞   ⎛   2    ⎞ ⎛   2    ⎞  ⎛   2    ⎞ ⎛ 2    2⎞   ⎛ 2    2⎞ ⎛ \n",
       " - 5⎠, x⋅⎝y  - z ⎠, y⋅⎝- x  + z ⎠, z⋅⎝x  - y ⎠⎦, ⎣3⋅x  - 6⋅x  + 3⋅y  - 6⋅y  + 3⋅z  - 6⋅z  + 3, ⎝2⋅x  - 3⎠⋅⎝3⋅x  - x⎠ + ⎝3⋅x  - y⎠⋅⎝2⋅y  - 3⎠ + ⎝3⋅x  - z⎠⋅⎝2⋅z  - 3⎠, ⎝2⋅x  - 3⎠⋅⎝y  - z ⎠ + ⎝y  - z ⎠⋅⎝2\n",
       "\n",
       "  2    ⎞   ⎛ 2    2⎞ ⎛   2    ⎞⎤⎤\n",
       "⋅y  - 3⎠ + ⎝y  - z ⎠⋅⎝2⋅z  - 3⎠⎦⎦"
      ]
     },
     "execution_count": 22,
     "metadata": {},
     "output_type": "execute_result"
    }
   ],
   "source": [
    "x, y, z = MOMENT_SYMBOLS\n",
    "\n",
    "moments = [[sp.core.sympify(1), x, y, z], [x**2 + y**2 + z**2 - 3, 9*x**2 - x**2 - y**2 - z**2, y**2 - z**2, x*y, y*z, z*x],\n",
    "          [(3*x**2 - 5)*x + (3*y**2 - 5)*x + (3*z**2 - 5)*x, (3*x**2 - 5)*y + (3*y**2 - 5)*y + (3*z**2 - 5)*y, \n",
    "          (3*x**2 - 5)*z + (3*y**2 - 5)*z + (3*z**2 - 5)*z, (y**2 - z**2)*x, (z**2 - x**2)*y, (x**2 - y**2)*z],\n",
    "           [3*x**4 - 6*x**2 + 1 + 3*y**4 - 6*y**2 + 1 + 3*z**4 - 6*z**2 + 1, \n",
    "            (2*x**2 - 3)*(3*x**2 - x) + (2*y**2 - 3)*(3*x**2 - y) + (2*z**2 - 3)*(3*x**2 - z), \n",
    "            (2*x**2 - 3)*(y**2 - z**2) + (2*y**2 - 3)*(y**2 - z**2) + (2*z**2 - 3)*(y**2 - z**2)]]\n",
    "moments"
   ]
  },
  {
   "cell_type": "code",
   "execution_count": 23,
   "id": "6e7e75b5-720c-407f-8e20-472e24a14139",
   "metadata": {},
   "outputs": [
    {
     "data": {
      "text/html": [
       "\n",
       "        <table style=\"border:none; width: 100%\">\n",
       "            <tr>\n",
       "                <th colspan=\"3\" style=\"text-align: left\">\n",
       "                    Moment-Based Method\n",
       "                </th>\n",
       "                <td>Stencil: D3Q19</td>\n",
       "                <td>Zero-Centered Storage: &#10007;</td>\n",
       "                <td>Force Model: None</td>\n",
       "            </tr>\n",
       "        </table>\n",
       "        \n",
       "        <div style=\"max-height: 150pt; overflow-y: auto;\">\n",
       "        <table style=\"border:none; width: 100%\">\n",
       "            <tr>\n",
       "                <th colspan=\"3\" style=\"text-align: left\">\n",
       "                    Discrete Hydrodynamic Maxwellian Equilibrium\n",
       "                </th>\n",
       "                <td>Compressible: &#10007;</td>\n",
       "                <td>Deviation Only: &#10007;</td>\n",
       "                <td>Order: 2</td>\n",
       "            </tr>\n",
       "        <tr><td colspan=\"6\" style=\"text-align: left;\"> $f_0 = \\frac{\\rho}{3} - \\frac{u_{0}^{2}}{2} - \\frac{u_{1}^{2}}{2} - \\frac{u_{2}^{2}}{2}$ </td></tr><tr><td colspan=\"6\" style=\"text-align: left;\"> $f_1 = \\frac{\\rho}{18} - \\frac{u_{0}^{2}}{12} + \\frac{u_{1}^{2}}{6} + \\frac{u_{1}}{6} - \\frac{u_{2}^{2}}{12}$ </td></tr><tr><td colspan=\"6\" style=\"text-align: left;\"> $f_2 = \\frac{\\rho}{18} - \\frac{u_{0}^{2}}{12} + \\frac{u_{1}^{2}}{6} - \\frac{u_{1}}{6} - \\frac{u_{2}^{2}}{12}$ </td></tr><tr><td colspan=\"6\" style=\"text-align: left;\"> $f_3 = \\frac{\\rho}{18} + \\frac{u_{0}^{2}}{6} - \\frac{u_{0}}{6} - \\frac{u_{1}^{2}}{12} - \\frac{u_{2}^{2}}{12}$ </td></tr><tr><td colspan=\"6\" style=\"text-align: left;\"> $f_4 = \\frac{\\rho}{18} + \\frac{u_{0}^{2}}{6} + \\frac{u_{0}}{6} - \\frac{u_{1}^{2}}{12} - \\frac{u_{2}^{2}}{12}$ </td></tr><tr><td colspan=\"6\" style=\"text-align: left;\"> $f_5 = \\frac{\\rho}{18} - \\frac{u_{0}^{2}}{12} - \\frac{u_{1}^{2}}{12} + \\frac{u_{2}^{2}}{6} + \\frac{u_{2}}{6}$ </td></tr><tr><td colspan=\"6\" style=\"text-align: left;\"> $f_6 = \\frac{\\rho}{18} - \\frac{u_{0}^{2}}{12} - \\frac{u_{1}^{2}}{12} + \\frac{u_{2}^{2}}{6} - \\frac{u_{2}}{6}$ </td></tr><tr><td colspan=\"6\" style=\"text-align: left;\"> $f_7 = \\frac{\\rho}{36} - \\frac{u_{0}^{2}}{24} - \\frac{u_{0}}{12} - \\frac{u_{1}^{2}}{24} + \\frac{u_{1}}{12} - \\frac{u_{2}^{2}}{24} + \\frac{\\left(- u_{0} + u_{1}\\right)^{2}}{8}$ </td></tr><tr><td colspan=\"6\" style=\"text-align: left;\"> $f_8 = \\frac{\\rho}{36} - \\frac{u_{0}^{2}}{24} + \\frac{u_{0}}{12} - \\frac{u_{1}^{2}}{24} + \\frac{u_{1}}{12} - \\frac{u_{2}^{2}}{24} + \\frac{\\left(u_{0} + u_{1}\\right)^{2}}{8}$ </td></tr><tr><td colspan=\"6\" style=\"text-align: left;\"> $f_9 = \\frac{\\rho}{36} - \\frac{u_{0}^{2}}{24} - \\frac{u_{0}}{12} - \\frac{u_{1}^{2}}{24} - \\frac{u_{1}}{12} - \\frac{u_{2}^{2}}{24} + \\frac{\\left(- u_{0} - u_{1}\\right)^{2}}{8}$ </td></tr><tr><td colspan=\"6\" style=\"text-align: left;\"> $f_10 = \\frac{\\rho}{36} - \\frac{u_{0}^{2}}{24} + \\frac{u_{0}}{12} - \\frac{u_{1}^{2}}{24} - \\frac{u_{1}}{12} - \\frac{u_{2}^{2}}{24} + \\frac{\\left(u_{0} - u_{1}\\right)^{2}}{8}$ </td></tr><tr><td colspan=\"6\" style=\"text-align: left;\"> $f_11 = \\frac{\\rho}{36} - \\frac{u_{0}^{2}}{24} - \\frac{u_{1}^{2}}{24} + \\frac{u_{1}}{12} - \\frac{u_{2}^{2}}{24} + \\frac{u_{2}}{12} + \\frac{\\left(u_{1} + u_{2}\\right)^{2}}{8}$ </td></tr><tr><td colspan=\"6\" style=\"text-align: left;\"> $f_12 = \\frac{\\rho}{36} - \\frac{u_{0}^{2}}{24} - \\frac{u_{1}^{2}}{24} - \\frac{u_{1}}{12} - \\frac{u_{2}^{2}}{24} + \\frac{u_{2}}{12} + \\frac{\\left(- u_{1} + u_{2}\\right)^{2}}{8}$ </td></tr><tr><td colspan=\"6\" style=\"text-align: left;\"> $f_13 = \\frac{\\rho}{36} - \\frac{u_{0}^{2}}{24} - \\frac{u_{0}}{12} - \\frac{u_{1}^{2}}{24} - \\frac{u_{2}^{2}}{24} + \\frac{u_{2}}{12} + \\frac{\\left(- u_{0} + u_{2}\\right)^{2}}{8}$ </td></tr><tr><td colspan=\"6\" style=\"text-align: left;\"> $f_14 = \\frac{\\rho}{36} - \\frac{u_{0}^{2}}{24} + \\frac{u_{0}}{12} - \\frac{u_{1}^{2}}{24} - \\frac{u_{2}^{2}}{24} + \\frac{u_{2}}{12} + \\frac{\\left(u_{0} + u_{2}\\right)^{2}}{8}$ </td></tr><tr><td colspan=\"6\" style=\"text-align: left;\"> $f_15 = \\frac{\\rho}{36} - \\frac{u_{0}^{2}}{24} - \\frac{u_{1}^{2}}{24} + \\frac{u_{1}}{12} - \\frac{u_{2}^{2}}{24} - \\frac{u_{2}}{12} + \\frac{\\left(u_{1} - u_{2}\\right)^{2}}{8}$ </td></tr><tr><td colspan=\"6\" style=\"text-align: left;\"> $f_16 = \\frac{\\rho}{36} - \\frac{u_{0}^{2}}{24} - \\frac{u_{1}^{2}}{24} - \\frac{u_{1}}{12} - \\frac{u_{2}^{2}}{24} - \\frac{u_{2}}{12} + \\frac{\\left(- u_{1} - u_{2}\\right)^{2}}{8}$ </td></tr><tr><td colspan=\"6\" style=\"text-align: left;\"> $f_17 = \\frac{\\rho}{36} - \\frac{u_{0}^{2}}{24} - \\frac{u_{0}}{12} - \\frac{u_{1}^{2}}{24} - \\frac{u_{2}^{2}}{24} - \\frac{u_{2}}{12} + \\frac{\\left(- u_{0} - u_{2}\\right)^{2}}{8}$ </td></tr><tr><td colspan=\"6\" style=\"text-align: left;\"> $f_18 = \\frac{\\rho}{36} - \\frac{u_{0}^{2}}{24} + \\frac{u_{0}}{12} - \\frac{u_{1}^{2}}{24} - \\frac{u_{2}^{2}}{24} - \\frac{u_{2}}{12} + \\frac{\\left(u_{0} - u_{2}\\right)^{2}}{8}$ </td></tr></table></div>\n",
       "        <table style=\"border:none; width: 100%\">\n",
       "            <tr> <th colspan=\"3\" style=\"text-align: left\"> Relaxation Info </th> </tr>\n",
       "            <tr>\n",
       "                <th>Moment</th>\n",
       "                <th>Eq. Value </th>\n",
       "                <th>Relaxation Rate</th>\n",
       "            </tr>\n",
       "        <tr style=\"border:none\">\n",
       "                            <td style=\"border:none\">$1$</td>\n",
       "                            <td style=\"border:none\">$\\rho$</td>\n",
       "                            <td style=\"border:none\">$\\omega$</td>\n",
       "                         </tr>\n",
       "<tr style=\"border:none\">\n",
       "                            <td style=\"border:none\">$x$</td>\n",
       "                            <td style=\"border:none\">$u_{0}$</td>\n",
       "                            <td style=\"border:none\">$\\omega$</td>\n",
       "                         </tr>\n",
       "<tr style=\"border:none\">\n",
       "                            <td style=\"border:none\">$y$</td>\n",
       "                            <td style=\"border:none\">$u_{1}$</td>\n",
       "                            <td style=\"border:none\">$\\omega$</td>\n",
       "                         </tr>\n",
       "<tr style=\"border:none\">\n",
       "                            <td style=\"border:none\">$z$</td>\n",
       "                            <td style=\"border:none\">$u_{2}$</td>\n",
       "                            <td style=\"border:none\">$\\omega$</td>\n",
       "                         </tr>\n",
       "<tr style=\"border:none\">\n",
       "                            <td style=\"border:none\">$x^{2} + y^{2} + z^{2} - 3$</td>\n",
       "                            <td style=\"border:none\">$- 2 \\rho + u_{0}^{2} + u_{1}^{2} + u_{2}^{2}$</td>\n",
       "                            <td style=\"border:none\">$\\omega$</td>\n",
       "                         </tr>\n",
       "<tr style=\"border:none\">\n",
       "                            <td style=\"border:none\">$8 x^{2} - y^{2} - z^{2}$</td>\n",
       "                            <td style=\"border:none\">$2 \\rho + 8 u_{0}^{2} - u_{1}^{2} - u_{2}^{2}$</td>\n",
       "                            <td style=\"border:none\">$\\omega$</td>\n",
       "                         </tr>\n",
       "<tr style=\"border:none\">\n",
       "                            <td style=\"border:none\">$y^{2} - z^{2}$</td>\n",
       "                            <td style=\"border:none\">$u_{1}^{2} - u_{2}^{2}$</td>\n",
       "                            <td style=\"border:none\">$\\omega$</td>\n",
       "                         </tr>\n",
       "<tr style=\"border:none\">\n",
       "                            <td style=\"border:none\">$x y$</td>\n",
       "                            <td style=\"border:none\">$u_{0} u_{1}$</td>\n",
       "                            <td style=\"border:none\">$\\omega$</td>\n",
       "                         </tr>\n",
       "<tr style=\"border:none\">\n",
       "                            <td style=\"border:none\">$y z$</td>\n",
       "                            <td style=\"border:none\">$u_{1} u_{2}$</td>\n",
       "                            <td style=\"border:none\">$\\omega$</td>\n",
       "                         </tr>\n",
       "<tr style=\"border:none\">\n",
       "                            <td style=\"border:none\">$x z$</td>\n",
       "                            <td style=\"border:none\">$u_{0} u_{2}$</td>\n",
       "                            <td style=\"border:none\">$\\omega$</td>\n",
       "                         </tr>\n",
       "<tr style=\"border:none\">\n",
       "                            <td style=\"border:none\">$x \\left(3 x^{2} - 5\\right) + x \\left(3 y^{2} - 5\\right) + x \\left(3 z^{2} - 5\\right)$</td>\n",
       "                            <td style=\"border:none\">$- 10 u_{0}$</td>\n",
       "                            <td style=\"border:none\">$\\omega$</td>\n",
       "                         </tr>\n",
       "<tr style=\"border:none\">\n",
       "                            <td style=\"border:none\">$y \\left(3 x^{2} - 5\\right) + y \\left(3 y^{2} - 5\\right) + y \\left(3 z^{2} - 5\\right)$</td>\n",
       "                            <td style=\"border:none\">$- 10 u_{1}$</td>\n",
       "                            <td style=\"border:none\">$\\omega$</td>\n",
       "                         </tr>\n",
       "<tr style=\"border:none\">\n",
       "                            <td style=\"border:none\">$z \\left(3 x^{2} - 5\\right) + z \\left(3 y^{2} - 5\\right) + z \\left(3 z^{2} - 5\\right)$</td>\n",
       "                            <td style=\"border:none\">$- 10 u_{2}$</td>\n",
       "                            <td style=\"border:none\">$\\omega$</td>\n",
       "                         </tr>\n",
       "<tr style=\"border:none\">\n",
       "                            <td style=\"border:none\">$x \\left(y^{2} - z^{2}\\right)$</td>\n",
       "                            <td style=\"border:none\">$0$</td>\n",
       "                            <td style=\"border:none\">$\\omega$</td>\n",
       "                         </tr>\n",
       "<tr style=\"border:none\">\n",
       "                            <td style=\"border:none\">$y \\left(- x^{2} + z^{2}\\right)$</td>\n",
       "                            <td style=\"border:none\">$0$</td>\n",
       "                            <td style=\"border:none\">$\\omega$</td>\n",
       "                         </tr>\n",
       "<tr style=\"border:none\">\n",
       "                            <td style=\"border:none\">$z \\left(x^{2} - y^{2}\\right)$</td>\n",
       "                            <td style=\"border:none\">$0$</td>\n",
       "                            <td style=\"border:none\">$\\omega$</td>\n",
       "                         </tr>\n",
       "<tr style=\"border:none\">\n",
       "                            <td style=\"border:none\">$3 x^{4} - 6 x^{2} + 3 y^{4} - 6 y^{2} + 3 z^{4} - 6 z^{2} + 3$</td>\n",
       "                            <td style=\"border:none\">$- 3 u_{0}^{2} - 3 u_{1}^{2} - 3 u_{2}^{2}$</td>\n",
       "                            <td style=\"border:none\">$\\omega$</td>\n",
       "                         </tr>\n",
       "<tr style=\"border:none\">\n",
       "                            <td style=\"border:none\">$\\left(2 x^{2} - 3\\right) \\left(3 x^{2} - x\\right) + \\left(3 x^{2} - y\\right) \\left(2 y^{2} - 3\\right) + \\left(3 x^{2} - z\\right) \\left(2 z^{2} - 3\\right)$</td>\n",
       "                            <td style=\"border:none\">$- \\frac{17 \\rho}{3} - 17 u_{0}^{2} + u_{0} + u_{1}^{2} + u_{1} + u_{2}^{2} + u_{2}$</td>\n",
       "                            <td style=\"border:none\">$\\omega$</td>\n",
       "                         </tr>\n",
       "<tr style=\"border:none\">\n",
       "                            <td style=\"border:none\">$\\left(2 x^{2} - 3\\right) \\left(y^{2} - z^{2}\\right) + \\left(y^{2} - z^{2}\\right) \\left(2 y^{2} - 3\\right) + \\left(y^{2} - z^{2}\\right) \\left(2 z^{2} - 3\\right)$</td>\n",
       "                            <td style=\"border:none\">$- 6 u_{1}^{2} + 6 u_{2}^{2}$</td>\n",
       "                            <td style=\"border:none\">$\\omega$</td>\n",
       "                         </tr>\n",
       "</table>"
      ],
      "text/plain": [
       "<lbmpy.methods.momentbased.momentbasedmethod.MomentBasedLbMethod at 0x7f6355535850>"
      ]
     },
     "execution_count": 23,
     "metadata": {},
     "output_type": "execute_result"
    }
   ],
   "source": [
    "method = create_lb_method(LBMConfig(stencil=Stencil.D3Q19, method=Method.MRT, nested_moments=moments, continuous_equilibrium=False, zero_centered=False, weighted = True))\n",
    "method"
   ]
  },
  {
   "cell_type": "code",
   "execution_count": 27,
   "id": "3314cc46-e5a4-4a73-959a-f01a5bb52a5f",
   "metadata": {},
   "outputs": [
    {
     "data": {
      "image/png": "[encoded data removed]",
      "text/latex": [
       "$\\displaystyle \\left[ \\left( 0, \\  0\\right), \\  \\left( 0, \\  1\\right), \\  \\left( 0, \\  2\\right), \\  \\left( 1, \\  0\\right), \\  \\left( 1, \\  1\\right), \\  \\left( 1, \\  2\\right), \\  \\left( 2, \\  0\\right), \\  \\left( 2, \\  1\\right), \\  \\left( 2, \\  2\\right)\\right]$"
      ],
      "text/plain": [
       "[(0, 0), (0, 1), (0, 2), (1, 0), (1, 1), (1, 2), (2, 0), (2, 1), (2, 2)]"
      ]
     },
     "execution_count": 27,
     "metadata": {},
     "output_type": "execute_result"
    }
   ],
   "source": [
    "from lbmpy.moments import moment_matrix, moments_up_to_component_order, exponents_to_polynomial_representations\n",
    "moment_exponents = list(moments_up_to_component_order(2, 2))\n",
    "moment_exponents"
   ]
  },
  {
   "cell_type": "code",
   "execution_count": 28,
   "id": "7cfaec33-0fc2-4e8b-984d-b26b2253c25e",
   "metadata": {},
   "outputs": [
    {
     "data": {
      "image/png": "[encoded data removed]",
      "text/latex": [
       "$\\displaystyle \\left( 1, \\  y, \\  y^{2}, \\  x, \\  x y, \\  x y^{2}, \\  x^{2}, \\  x^{2} y, \\  x^{2} y^{2}\\right)$"
      ],
      "text/plain": [
       "⎛       2             2   2   2     2  2⎞\n",
       "⎝1, y, y , x, x⋅y, x⋅y , x , x ⋅y, x ⋅y ⎠"
      ]
     },
     "execution_count": 28,
     "metadata": {},
     "output_type": "execute_result"
    }
   ],
   "source": [
    "moments = exponents_to_polynomial_representations(moment_exponents)\n",
    "moments"
   ]
  },
  {
   "cell_type": "code",
   "execution_count": 29,
   "id": "6a89ac90-c5f7-4d32-a846-b845446b3024",
   "metadata": {},
   "outputs": [
    {
     "data": {
      "image/png": "[encoded data removed]",
      "text/plain": [
       "<Figure size 1152x432 with 1 Axes>"
      ]
     },
     "metadata": {
      "needs_background": "light"
     },
     "output_type": "display_data"
    }
   ],
   "source": [
    "d2q9 = LBStencil(Stencil.D2Q9, ordering='walberla')\n",
    "d2q9.plot()"
   ]
  },
  {
   "cell_type": "code",
   "execution_count": 30,
   "id": "85444062-5097-4281-a0cb-851be7ae85e5",
   "metadata": {},
   "outputs": [
    {
     "data": {
      "text/latex": [
       "$\\displaystyle \\left[\\begin{matrix}1 & 1 & 1 & 1 & 1 & 1 & 1 & 1 & 1\\\\0 & 1 & -1 & 0 & 0 & 1 & 1 & -1 & -1\\\\0 & 1 & 1 & 0 & 0 & 1 & 1 & 1 & 1\\\\0 & 0 & 0 & -1 & 1 & -1 & 1 & -1 & 1\\\\0 & 0 & 0 & 0 & 0 & -1 & 1 & 1 & -1\\\\0 & 0 & 0 & 0 & 0 & -1 & 1 & -1 & 1\\\\0 & 0 & 0 & 1 & 1 & 1 & 1 & 1 & 1\\\\0 & 0 & 0 & 0 & 0 & 1 & 1 & -1 & -1\\\\0 & 0 & 0 & 0 & 0 & 1 & 1 & 1 & 1\\end{matrix}\\right]$"
      ],
      "text/plain": [
       "⎡1  1  1   1   1  1   1  1   1 ⎤\n",
       "⎢                              ⎥\n",
       "⎢0  1  -1  0   0  1   1  -1  -1⎥\n",
       "⎢                              ⎥\n",
       "⎢0  1  1   0   0  1   1  1   1 ⎥\n",
       "⎢                              ⎥\n",
       "⎢0  0  0   -1  1  -1  1  -1  1 ⎥\n",
       "⎢                              ⎥\n",
       "⎢0  0  0   0   0  -1  1  1   -1⎥\n",
       "⎢                              ⎥\n",
       "⎢0  0  0   0   0  -1  1  -1  1 ⎥\n",
       "⎢                              ⎥\n",
       "⎢0  0  0   1   1  1   1  1   1 ⎥\n",
       "⎢                              ⎥\n",
       "⎢0  0  0   0   0  1   1  -1  -1⎥\n",
       "⎢                              ⎥\n",
       "⎣0  0  0   0   0  1   1  1   1 ⎦"
      ]
     },
     "execution_count": 30,
     "metadata": {},
     "output_type": "execute_result"
    }
   ],
   "source": [
    "M = moment_matrix(moments, stencil=d2q9)\n",
    "M"
   ]
  },
  {
   "cell_type": "code",
   "execution_count": 80,
   "id": "2a03ff3f-773c-46f0-9f96-c3893b34cd86",
   "metadata": {},
   "outputs": [],
   "source": [
    "from lbmpy.equilibrium import ContinuousHydrodynamicMaxwellian\n",
    "from lbmpy.methods import DensityVelocityComputation\n",
    "\n",
    "equilibrium = ContinuousHydrodynamicMaxwellian(dim=2, compressible=True, order=2)\n",
    "cqc = DensityVelocityComputation(d2q9, True, False)\n",
    "\n",
    "# tuple(zip(moments, equilibrium.moments(moments)))"
   ]
  },
  {
   "cell_type": "code",
   "execution_count": 103,
   "id": "43add13e-58b8-42b1-81aa-e9789b018311",
   "metadata": {},
   "outputs": [
    {
     "data": {
      "text/html": [
       "\n",
       "        <table style=\"border:none; width: 100%\">\n",
       "            <tr>\n",
       "                <th colspan=\"3\" style=\"text-align: left\">\n",
       "                    Moment-Based Method\n",
       "                </th>\n",
       "                <td>Stencil: D2Q9</td>\n",
       "                <td>Zero-Centered Storage: &#10007;</td>\n",
       "                <td>Force Model: None</td>\n",
       "            </tr>\n",
       "        </table>\n",
       "        \n",
       "        <table style=\"border:none; width: 100%\">\n",
       "            <tr>\n",
       "                <th colspan=\"3\" style=\"text-align: left\">\n",
       "                    Continuous Hydrodynamic Maxwellian Equilibrium\n",
       "                </th>\n",
       "                <td rowspan=\"2\" style=\"width: 50%; text-align: center\">\n",
       "                    $f (\\rho, \\left( u_{0}, \\  u_{1}\\right), \\left( v_{0}, \\  v_{1}\\right)) \n",
       "                        = \\frac{\\rho e^{\\frac{- \\left(- u_{0} + v_{0}\\right)^{2} - \\left(- u_{1} + v_{1}\\right)^{2}}{2 c_{s}^{2}}}}{2 \\pi c_{s}^{2}}$\n",
       "                </td>\n",
       "            </tr>\n",
       "            <tr>\n",
       "                <td>Compressible: &#10003;</td>\n",
       "                <td>Deviation Only: &#10007;</td>\n",
       "                <td>Order: 2</td>\n",
       "            </tr>\n",
       "        </table>\n",
       "        \n",
       "        <table style=\"border:none; width: 100%\">\n",
       "            <tr> <th colspan=\"3\" style=\"text-align: left\"> Relaxation Info </th> </tr>\n",
       "            <tr>\n",
       "                <th>Moment</th>\n",
       "                <th>Eq. Value </th>\n",
       "                <th>Relaxation Rate</th>\n",
       "            </tr>\n",
       "        <tr style=\"border:none\">\n",
       "                            <td style=\"border:none\">$1$</td>\n",
       "                            <td style=\"border:none\">$\\rho$</td>\n",
       "                            <td style=\"border:none\">$\\omega$</td>\n",
       "                         </tr>\n",
       "<tr style=\"border:none\">\n",
       "                            <td style=\"border:none\">$y$</td>\n",
       "                            <td style=\"border:none\">$\\rho u_{1}$</td>\n",
       "                            <td style=\"border:none\">$\\omega$</td>\n",
       "                         </tr>\n",
       "<tr style=\"border:none\">\n",
       "                            <td style=\"border:none\">$y^{2}$</td>\n",
       "                            <td style=\"border:none\">$c_{s}^{2} \\rho + \\rho u_{1}^{2}$</td>\n",
       "                            <td style=\"border:none\">$\\omega$</td>\n",
       "                         </tr>\n",
       "<tr style=\"border:none\">\n",
       "                            <td style=\"border:none\">$x$</td>\n",
       "                            <td style=\"border:none\">$\\rho u_{0}$</td>\n",
       "                            <td style=\"border:none\">$\\omega$</td>\n",
       "                         </tr>\n",
       "<tr style=\"border:none\">\n",
       "                            <td style=\"border:none\">$x y$</td>\n",
       "                            <td style=\"border:none\">$\\rho u_{0} u_{1}$</td>\n",
       "                            <td style=\"border:none\">$\\omega$</td>\n",
       "                         </tr>\n",
       "<tr style=\"border:none\">\n",
       "                            <td style=\"border:none\">$x y^{2}$</td>\n",
       "                            <td style=\"border:none\">$c_{s}^{2} \\rho u_{0}$</td>\n",
       "                            <td style=\"border:none\">$\\omega$</td>\n",
       "                         </tr>\n",
       "<tr style=\"border:none\">\n",
       "                            <td style=\"border:none\">$x^{2}$</td>\n",
       "                            <td style=\"border:none\">$c_{s}^{2} \\rho + \\rho u_{0}^{2}$</td>\n",
       "                            <td style=\"border:none\">$\\omega$</td>\n",
       "                         </tr>\n",
       "<tr style=\"border:none\">\n",
       "                            <td style=\"border:none\">$x^{2} y$</td>\n",
       "                            <td style=\"border:none\">$c_{s}^{2} \\rho u_{1}$</td>\n",
       "                            <td style=\"border:none\">$\\omega$</td>\n",
       "                         </tr>\n",
       "<tr style=\"border:none\">\n",
       "                            <td style=\"border:none\">$x^{2} y^{2}$</td>\n",
       "                            <td style=\"border:none\">$c_{s}^{4} \\rho + c_{s}^{2} \\rho u_{0}^{2} + c_{s}^{2} \\rho u_{1}^{2}$</td>\n",
       "                            <td style=\"border:none\">$\\omega$</td>\n",
       "                         </tr>\n",
       "</table>"
      ],
      "text/plain": [
       "<lbmpy.methods.momentbased.momentbasedmethod.MomentBasedLbMethod at 0x7f6351291910>"
      ]
     },
     "execution_count": 103,
     "metadata": {},
     "output_type": "execute_result"
    }
   ],
   "source": [
    "from lbmpy.methods.creationfunctions import create_from_equilibrium\n",
    "\n",
    "omega = sp.symbols(\"omega\")\n",
    "relaxation_rate_dict = {moment : omega for moment in moments}\n",
    "\n",
    "force_model = forcemodels.Guo(sp.symbols(\"F_:2\"))\n",
    "method = create_from_equilibrium(d2q9, equilibrium, cqc, relaxation_rate_dict)\n",
    "method"
   ]
  },
  {
   "cell_type": "code",
   "execution_count": 108,
   "id": "9d5c62b1-3bef-468e-a7bb-ddb4031dd635",
   "metadata": {},
   "outputs": [
    {
     "data": {
      "text/html": [
       "\n",
       "        <table style=\"border:none; width: 100%\">\n",
       "            <tr>\n",
       "                <th colspan=\"3\" style=\"text-align: left\">\n",
       "                    Continuous Hydrodynamic Maxwellian Equilibrium\n",
       "                </th>\n",
       "                <td rowspan=\"2\" style=\"width: 50%; text-align: center\">\n",
       "                    $f (\\rho, \\left( u_{0}, \\  u_{1}\\right), \\left( v_{0}, \\  v_{1}\\right)) \n",
       "                        = \\frac{\\rho e^{\\frac{- \\left(- u_{0} + v_{0}\\right)^{2} - \\left(- u_{1} + v_{1}\\right)^{2}}{2 c_{s}^{2}}}}{2 \\pi c_{s}^{2}}$\n",
       "                </td>\n",
       "            </tr>\n",
       "            <tr>\n",
       "                <td>Compressible: &#10003;</td>\n",
       "                <td>Deviation Only: &#10007;</td>\n",
       "                <td>Order: 2</td>\n",
       "            </tr>\n",
       "        </table>\n",
       "        "
      ],
      "text/plain": [
       "ContinuousHydrodynamicMaxwellian(2D, compressible=True, deviation_only:Falseorder=2)"
      ]
     },
     "execution_count": 108,
     "metadata": {},
     "output_type": "execute_result"
    }
   ],
   "source": [
    "# method.equilibrium_distribution"
   ]
  },
  {
   "cell_type": "code",
   "execution_count": 247,
   "id": "542f4e67-f9d0-4454-8946-0b444e597671",
   "metadata": {},
   "outputs": [],
   "source": [
    "import sympy.abc as w\n",
    "\n",
    "test_stencil = LBStencil(Stencil.D3Q19)\n",
    "\n",
    "rho = w.rho\n",
    "u = sp.symbols('u_0, u_1, u_2')\n",
    "               \n",
    "phi = w.phi\n",
    "psi = w.psi\n",
    "\n",
    "pb, cs = sp.symbols('p_b, c_s')\n",
    "deviation = True\n",
    "krr = sp.Symbol(r\"k_{\\rho\\rho}\")\n",
    "kpp = sp.Symbol('k_{\\phi\\phi}')\n",
    "kss = sp.Symbol('k_{\\psi\\psi}')\n",
    "\n",
    "x, y, z = sp.symbols('x, y, z')"
   ]
  },
  {
   "cell_type": "code",
   "execution_count": 268,
   "id": "e68eee06-5f4f-49fb-a50a-6b0997eccfe2",
   "metadata": {},
   "outputs": [],
   "source": [
    "v = np.array(list(test_stencil))\n",
    "v_x = v[:, 0]\n",
    "v_y = v[:, 1]\n",
    "v_z = v[:, 2]\n",
    "\n",
    "w_i = np.zeros(19)\n",
    "\n",
    "w_xx = np.zeros_like(w_i)\n",
    "w_yy = np.zeros_like(w_i)\n",
    "w_zz = np.zeros_like(w_i)\n",
    "\n",
    "w_xy = np.zeros_like(w_i)\n",
    "w_zx = np.zeros_like(w_i)\n",
    "w_yz = np.zeros_like(w_i)\n",
    "\n",
    "w_i[0] = 1/3; w_i[1:7] = 1/18; w_i[7:] = 1/36\n",
    "w_xx[1:3] = w_yy[3:5] = w_zz[5:7] = 5/36\n",
    "w_xx[3:7] = w_yy[[1, 2, 5, 6]] = w_zz[1:5] = -1/9\n",
    "w_xx[7:11] = w_xx[15:] = w_yy[7:15] = w_zz[11:] = -1/72\n",
    "w_xx[11:15] = w_yy[15:] = w_zz[7:11] = 1/36\n",
    "\n",
    "w_xy[1:7] = w_yz[1:7] = w_zx[1:7] = 0\n",
    "w_xy[[7, 10]] = w_yz[[11, 14]] = w_zx[[15, 18]] = 1/12\n",
    "w_xy[[8, 9]] = w_yz[[12, 13]] = w_zx[[16, 17]] = -1/12\n",
    "w_xy[11:] = w_yz[7:11] = w_yz[15:] = w_zx[7:15] = 0\n",
    "\n",
    "w_xx[0] = w_yy[0] = w_zz[0] = 1/6\n",
    "\n",
    "# w_xx, w_yy, w_zz, w_xy, w_zx, w_yz\n",
    "a = np.sum(w_i)\n",
    "b = np.sum(w_xx)\n",
    "c = np.sum(w_yy)\n",
    "d = np.sum(w_zz)\n",
    "e = np.sum(w_xy)\n",
    "f = np.sum(w_zx)\n",
    "g = np.sum(w_yz)\n",
    "\n",
    "# a, b, c, d, e, f, g\n",
    "w = np.array([w_xx, w_yy, w_zz, w_xy, w_yz, w_zx])\n",
    "w = w.T\n",
    "\n",
    "w = np.round(w, 3)\n",
    "v = np.round(v, 3)"
   ]
  },
  {
   "cell_type": "code",
   "execution_count": 269,
   "id": "9105c4b1-962e-49a8-a08e-83c75b8aa900",
   "metadata": {},
   "outputs": [],
   "source": [
    "# # w_i = []\n",
    "\n",
    "# w = sp.Symbol('w')\n",
    "\n",
    "# w_i = np.zeros(19, dtype = object)\n",
    "# w = np.zeros((19, 6), dtype = object)\n",
    "\n",
    "# thing = ['w_{xx}', 'w_{yy}', 'w_{zz}', 'w_{xy}', 'w_{yz}', 'w_{zx}']\n",
    "\n",
    "# for i in range(19):\n",
    "#     # w_i.append(sp.Symbol('w_'+str(i)))\n",
    "#     w_i[i] = sp.Symbol('w_'+str(i))\n",
    "#     for j in range(6):\n",
    "#         w[i, j] = sp.Symbol(thing[j] + '^' + str(i))\n",
    "\n",
    "# # w[0, 0]"
   ]
  },
  {
   "cell_type": "code",
   "execution_count": 270,
   "id": "00fb5e19-e10f-4463-a561-c781edd8f85d",
   "metadata": {},
   "outputs": [],
   "source": [
    "from sympy.vector import CoordSys3D, Del\n",
    "C = CoordSys3D('C')\n",
    "delop = Del()\n",
    "\n",
    "f_i_eq = []\n",
    "\n",
    "d_ab = np.identity(3)\n",
    "\n",
    "order_parameter = [rho, phi, psi]\n",
    "k_all = [krr, kpp, kss]\n",
    "diff1 = [[x, x], [y, y], [z, z], [x, y], [y, z], [z, x]]\n",
    "    \n",
    "for i in range(19):\n",
    "    term1 = sp.core.sympify(0)\n",
    "    term2 = sp.core.sympify(0)\n",
    "    \n",
    "    term3 = sp.core.sympify(0)\n",
    "    term4 = sp.core.sympify(0)\n",
    "    term5 = sp.core.sympify(0)\n",
    "    \n",
    "    for j in range(3):\n",
    "        term1 += v[i, j]*rho*u[j]/cs**2\n",
    "        for k in range(3):\n",
    "            term1 += rho*u[j]*u[k]*(v[i, j]*v[i, k] - cs**2*d_ab[j, k])\n",
    "        \n",
    "        \n",
    "        # print(k_all[j], order_parameter[j])\n",
    "        # test = order_parameter[j]*C.x*C.y*C.z\n",
    "        # gradient_term = delop.gradient(delop.gradient(test))\n",
    "        # print(gradient_term)\n",
    "        # term2 += k_all[j]*order_parameter[j]*gradient_term\n",
    "        \n",
    "    term1 += pb/cs**2\n",
    "    term1 *= w_i[i]\n",
    "    \n",
    "    term2 *= -w_i[i]/cs**2\n",
    "    \n",
    "    for k in range(6):\n",
    "        term3 += w[i, k]*sp.Derivative(rho, diff1[k][0])*sp.Derivative(rho, diff1[k][1])\n",
    "    term3 *= krr/cs**2\n",
    "    \n",
    "    for k in range(6):\n",
    "        term4 += w[i, k]*sp.Derivative(phi, diff1[k][0])*sp.Derivative(phi, diff1[k][1])\n",
    "    term4 *= kpp/cs**2\n",
    "    \n",
    "    for k in range(6):\n",
    "        term5 += w[i, k]*sp.Derivative(psi, diff1[k][0])*sp.Derivative(psi, diff1[k][1])\n",
    "    term5 *= kss/cs**2\n",
    "    \n",
    "    f_i_eq.append(term1 + term2 + term3 + term4 + term5)"
   ]
  },
  {
   "cell_type": "code",
   "execution_count": 271,
   "id": "0ec3dcea-4903-4416-84aa-f97ac2677f48",
   "metadata": {},
   "outputs": [],
   "source": [
    "equilibrium = lbmpy.equilibrium.GenericDiscreteEquilibrium(test_stencil, f_i_eq, rho, u)"
   ]
  },
  {
   "cell_type": "code",
   "execution_count": 272,
   "id": "02bd4b6c-f0bf-4f5c-80da-1da7fa1078a9",
   "metadata": {},
   "outputs": [
    {
     "data": {
      "image/png": "[encoded data removed]",
      "text/latex": [
       "$\\displaystyle \\left[ \\left[ 1\\right], \\  \\left[ x, \\  y, \\  z\\right], \\  \\left[ x^{2} + y^{2} + z^{2} - 1, \\  2 x^{2} - y^{2} - z^{2}, \\  y^{2} - z^{2}, \\  x y, \\  y z, \\  x z\\right], \\  \\left[ x \\left(3 x^{2} + 3 y^{2} + 3 z^{2} - 5\\right), \\  y \\left(3 x^{2} + 3 y^{2} + 3 z^{2} - 5\\right), \\  z \\left(3 x^{2} + 3 y^{2} + 3 z^{2} - 5\\right), \\  x \\left(y^{2} - z^{2}\\right), \\  y \\left(- x^{2} + z^{2}\\right), \\  z \\left(x^{2} - y^{2}\\right)\\right], \\  \\left[ 3 x^{4} - 6 x^{2} + 3 y^{4} - 6 y^{2} + 3 z^{4} - 6 z^{2} + 1, \\  \\left(2 x^{2} - y^{2} - z^{2}\\right) \\left(2 x^{2} + 2 y^{2} + 2 z^{2} - 3\\right), \\  \\left(y^{2} - z^{2}\\right) \\left(2 x^{2} + 2 y^{2} + 2 z^{2} - 3\\right)\\right]\\right]$"
      ],
      "text/plain": [
       "⎡                ⎡ 2    2    2         2    2    2   2    2               ⎤  ⎡  ⎛   2      2      2    ⎞    ⎛   2      2      2    ⎞    ⎛   2      2      2    ⎞    ⎛ 2    2⎞    ⎛   2    2⎞    ⎛ 2    2⎞\n",
       "⎣[1], [x, y, z], ⎣x  + y  + z  - 1, 2⋅x  - y  - z , y  - z , x⋅y, y⋅z, x⋅z⎦, ⎣x⋅⎝3⋅x  + 3⋅y  + 3⋅z  - 5⎠, y⋅⎝3⋅x  + 3⋅y  + 3⋅z  - 5⎠, z⋅⎝3⋅x  + 3⋅y  + 3⋅z  - 5⎠, x⋅⎝y  - z ⎠, y⋅⎝- x  + z ⎠, z⋅⎝x  - y ⎠\n",
       "\n",
       "⎤  ⎡   4      2      4      2      4      2      ⎛   2    2    2⎞ ⎛   2      2      2    ⎞  ⎛ 2    2⎞ ⎛   2      2      2    ⎞⎤⎤\n",
       "⎦, ⎣3⋅x  - 6⋅x  + 3⋅y  - 6⋅y  + 3⋅z  - 6⋅z  + 1, ⎝2⋅x  - y  - z ⎠⋅⎝2⋅x  + 2⋅y  + 2⋅z  - 3⎠, ⎝y  - z ⎠⋅⎝2⋅x  + 2⋅y  + 2⋅z  - 3⎠⎦⎦"
      ]
     },
     "execution_count": 272,
     "metadata": {},
     "output_type": "execute_result"
    }
   ],
   "source": [
    "x, y, z = MOMENT_SYMBOLS\n",
    "\n",
    "zeroth_order = [sp.core.sympify(1)]\n",
    "\n",
    "first_order = [x, y, z]\n",
    "\n",
    "second_order = [x**2 + y**2 + z**2 - 1, 3*x**2 - x**2 - y**2 - z**2, y**2 - z**2, x*y, y*z, z*x]\n",
    "third_order = [(3*x**2 + 3*y**2 + 3*z**2 - 5)*x, (3*x**2 + 3*y**2 + 3*z**2 - 5)*y, \n",
    "          (3*x**2 + 3*y**2 + 3*z**2 - 5)*z, (y**2 - z**2)*x, (z**2 - x**2)*y, (x**2 - y**2)*z]\n",
    "\n",
    "fourth_order = [3*x**4 + 3*y**4 + 3*z**4 - 6*x**2 - 6*y**2 - 6*z**2  + 1, \n",
    "            (2*x**2 + 2*y**2 + 2*z**2 - 3)*(3*x**2 - x**2 - y**2 - z**2), \n",
    "            (2*x**2 + 2*y**2 + 2*z**2 - 3)*(y**2 - z**2)]\n",
    "\n",
    "moments = [zeroth_order, first_order, second_order, third_order, fourth_order]\n",
    "\n",
    "# moments = [[sp.core.sympify(1), x, y, z], [x**2 + y**2 + z**2 - 3, 9*x**2 - x**2 - y**2 - z**2, y**2 - z**2, x*y, y*z, z*x],\n",
    "#           [(3*x**2 - 5)*x + (3*y**2 - 5)*x + (3*z**2 - 5)*x, (3*x**2 - 5)*y + (3*y**2 - 5)*y + (3*z**2 - 5)*y, \n",
    "#           (3*x**2 - 5)*z + (3*y**2 - 5)*z + (3*z**2 - 5)*z, (y**2 - z**2)*x, (z**2 - x**2)*y, (x**2 - y**2)*z],\n",
    "#            [3*x**4 - 6*x**2 + 1 + 3*y**4 - 6*y**2 + 1 + 3*z**4 - 6*z**2 + 1, \n",
    "#             (2*x**2 - 3)*(3*x**2 - x) + (2*y**2 - 3)*(3*x**2 - y) + (2*z**2 - 3)*(3*x**2 - z), \n",
    "#             (2*x**2 - 3)*(y**2 - z**2) + (2*y**2 - 3)*(y**2 - z**2) + (2*z**2 - 3)*(y**2 - z**2)]]\n",
    "moments"
   ]
  },
  {
   "cell_type": "code",
   "execution_count": 273,
   "id": "04d8d4d0-e14a-4bfe-9f65-5148825f4263",
   "metadata": {},
   "outputs": [],
   "source": [
    "moments_unpacked = [*zeroth_order, *first_order, *second_order, *third_order, *fourth_order]"
   ]
  },
  {
   "cell_type": "code",
   "execution_count": 274,
   "id": "c635d67b-5296-44a9-8afc-01cdd29bd266",
   "metadata": {},
   "outputs": [
    {
     "data": {
      "text/html": [
       "\n",
       "        <table style=\"border:none; width: 100%\">\n",
       "            <tr>\n",
       "                <th colspan=\"3\" style=\"text-align: left\">\n",
       "                    Moment-Based Method\n",
       "                </th>\n",
       "                <td>Stencil: D3Q19</td>\n",
       "                <td>Zero-Centered Storage: &#10007;</td>\n",
       "                <td>Force Model: None</td>\n",
       "            </tr>\n",
       "        </table>\n",
       "        \n",
       "        <table style=\"border:none; width: 100%\">\n",
       "            <tr>\n",
       "                <th colspan=\"2\" style=\"text-align: left\">\n",
       "                    Instance of GenericDiscreteEquilibrium\n",
       "                </th>\n",
       "            </tr>\n",
       "        \n",
       "                    <tr>\n",
       "                        <td colspan=\"2\" style=\"text-align: right;\"> Discrete Populations: </td>\n",
       "                    </tr>\n",
       "                    <tr><td colspan=\"2\" style=\"text-align: left;\"> $f_0 = - 0.333333333333333 c_{s}^{2} \\rho u_{0}^{2} - 0.333333333333333 c_{s}^{2} \\rho u_{1}^{2} - 0.333333333333333 c_{s}^{2} \\rho u_{2}^{2} + \\frac{k_{\\phi\\phi} \\left(0.167 \\left(\\frac{d}{d x} \\phi\\right)^{2} + 0.167 \\left(\\frac{d}{d y} \\phi\\right)^{2} + 0.167 \\left(\\frac{d}{d z} \\phi\\right)^{2}\\right)}{c_{s}^{2}} + \\frac{k_{\\psi\\psi} \\left(0.167 \\left(\\frac{d}{d x} \\psi\\right)^{2} + 0.167 \\left(\\frac{d}{d y} \\psi\\right)^{2} + 0.167 \\left(\\frac{d}{d z} \\psi\\right)^{2}\\right)}{c_{s}^{2}} + \\frac{k_{\\rho\\rho} \\left(0.167 \\left(\\frac{d}{d x} \\rho\\right)^{2} + 0.167 \\left(\\frac{d}{d y} \\rho\\right)^{2} + 0.167 \\left(\\frac{d}{d z} \\rho\\right)^{2}\\right)}{c_{s}^{2}} + \\frac{0.333333333333333 p_{b}}{c_{s}^{2}}$ </td></tr><tr><td colspan=\"2\" style=\"text-align: left;\"> $f_1 = - 0.0555555555555556 c_{s}^{2} \\rho u_{0}^{2} - 0.0555555555555556 c_{s}^{2} \\rho u_{2}^{2} + 0.0555555555555556 \\rho u_{1}^{2} \\cdot \\left(1 - 1.0 c_{s}^{2}\\right) + \\frac{k_{\\phi\\phi} \\left(0.139 \\left(\\frac{d}{d x} \\phi\\right)^{2} - 0.111 \\left(\\frac{d}{d y} \\phi\\right)^{2} - 0.111 \\left(\\frac{d}{d z} \\phi\\right)^{2}\\right)}{c_{s}^{2}} + \\frac{k_{\\psi\\psi} \\left(0.139 \\left(\\frac{d}{d x} \\psi\\right)^{2} - 0.111 \\left(\\frac{d}{d y} \\psi\\right)^{2} - 0.111 \\left(\\frac{d}{d z} \\psi\\right)^{2}\\right)}{c_{s}^{2}} + \\frac{k_{\\rho\\rho} \\left(0.139 \\left(\\frac{d}{d x} \\rho\\right)^{2} - 0.111 \\left(\\frac{d}{d y} \\rho\\right)^{2} - 0.111 \\left(\\frac{d}{d z} \\rho\\right)^{2}\\right)}{c_{s}^{2}} + \\frac{0.0555555555555556 p_{b}}{c_{s}^{2}} + \\frac{0.0555555555555556 \\rho u_{1}}{c_{s}^{2}}$ </td></tr><tr><td colspan=\"2\" style=\"text-align: left;\"> $f_2 = - 0.0555555555555556 c_{s}^{2} \\rho u_{0}^{2} - 0.0555555555555556 c_{s}^{2} \\rho u_{2}^{2} + 0.0555555555555556 \\rho u_{1}^{2} \\cdot \\left(1 - 1.0 c_{s}^{2}\\right) + \\frac{k_{\\phi\\phi} \\left(0.139 \\left(\\frac{d}{d x} \\phi\\right)^{2} - 0.111 \\left(\\frac{d}{d y} \\phi\\right)^{2} - 0.111 \\left(\\frac{d}{d z} \\phi\\right)^{2}\\right)}{c_{s}^{2}} + \\frac{k_{\\psi\\psi} \\left(0.139 \\left(\\frac{d}{d x} \\psi\\right)^{2} - 0.111 \\left(\\frac{d}{d y} \\psi\\right)^{2} - 0.111 \\left(\\frac{d}{d z} \\psi\\right)^{2}\\right)}{c_{s}^{2}} + \\frac{k_{\\rho\\rho} \\left(0.139 \\left(\\frac{d}{d x} \\rho\\right)^{2} - 0.111 \\left(\\frac{d}{d y} \\rho\\right)^{2} - 0.111 \\left(\\frac{d}{d z} \\rho\\right)^{2}\\right)}{c_{s}^{2}} + \\frac{0.0555555555555556 p_{b}}{c_{s}^{2}} - \\frac{0.0555555555555556 \\rho u_{1}}{c_{s}^{2}}$ </td></tr><tr><td colspan=\"2\" style=\"text-align: left;\"> $f_3 = - 0.0555555555555556 c_{s}^{2} \\rho u_{1}^{2} - 0.0555555555555556 c_{s}^{2} \\rho u_{2}^{2} + 0.0555555555555556 \\rho u_{0}^{2} \\cdot \\left(1 - 1.0 c_{s}^{2}\\right) + \\frac{k_{\\phi\\phi} \\left(- 0.111 \\left(\\frac{d}{d x} \\phi\\right)^{2} + 0.139 \\left(\\frac{d}{d y} \\phi\\right)^{2} - 0.111 \\left(\\frac{d}{d z} \\phi\\right)^{2}\\right)}{c_{s}^{2}} + \\frac{k_{\\psi\\psi} \\left(- 0.111 \\left(\\frac{d}{d x} \\psi\\right)^{2} + 0.139 \\left(\\frac{d}{d y} \\psi\\right)^{2} - 0.111 \\left(\\frac{d}{d z} \\psi\\right)^{2}\\right)}{c_{s}^{2}} + \\frac{k_{\\rho\\rho} \\left(- 0.111 \\left(\\frac{d}{d x} \\rho\\right)^{2} + 0.139 \\left(\\frac{d}{d y} \\rho\\right)^{2} - 0.111 \\left(\\frac{d}{d z} \\rho\\right)^{2}\\right)}{c_{s}^{2}} + \\frac{0.0555555555555556 p_{b}}{c_{s}^{2}} - \\frac{0.0555555555555556 \\rho u_{0}}{c_{s}^{2}}$ </td></tr><tr><td colspan=\"2\" style=\"text-align: left;\"> $f_4 = - 0.0555555555555556 c_{s}^{2} \\rho u_{1}^{2} - 0.0555555555555556 c_{s}^{2} \\rho u_{2}^{2} + 0.0555555555555556 \\rho u_{0}^{2} \\cdot \\left(1 - 1.0 c_{s}^{2}\\right) + \\frac{k_{\\phi\\phi} \\left(- 0.111 \\left(\\frac{d}{d x} \\phi\\right)^{2} + 0.139 \\left(\\frac{d}{d y} \\phi\\right)^{2} - 0.111 \\left(\\frac{d}{d z} \\phi\\right)^{2}\\right)}{c_{s}^{2}} + \\frac{k_{\\psi\\psi} \\left(- 0.111 \\left(\\frac{d}{d x} \\psi\\right)^{2} + 0.139 \\left(\\frac{d}{d y} \\psi\\right)^{2} - 0.111 \\left(\\frac{d}{d z} \\psi\\right)^{2}\\right)}{c_{s}^{2}} + \\frac{k_{\\rho\\rho} \\left(- 0.111 \\left(\\frac{d}{d x} \\rho\\right)^{2} + 0.139 \\left(\\frac{d}{d y} \\rho\\right)^{2} - 0.111 \\left(\\frac{d}{d z} \\rho\\right)^{2}\\right)}{c_{s}^{2}} + \\frac{0.0555555555555556 p_{b}}{c_{s}^{2}} + \\frac{0.0555555555555556 \\rho u_{0}}{c_{s}^{2}}$ </td></tr><tr><td colspan=\"2\" style=\"text-align: left;\"> $f_5 = - 0.0555555555555556 c_{s}^{2} \\rho u_{0}^{2} - 0.0555555555555556 c_{s}^{2} \\rho u_{1}^{2} + 0.0555555555555556 \\rho u_{2}^{2} \\cdot \\left(1 - 1.0 c_{s}^{2}\\right) + \\frac{k_{\\phi\\phi} \\left(- 0.111 \\left(\\frac{d}{d x} \\phi\\right)^{2} - 0.111 \\left(\\frac{d}{d y} \\phi\\right)^{2} + 0.139 \\left(\\frac{d}{d z} \\phi\\right)^{2}\\right)}{c_{s}^{2}} + \\frac{k_{\\psi\\psi} \\left(- 0.111 \\left(\\frac{d}{d x} \\psi\\right)^{2} - 0.111 \\left(\\frac{d}{d y} \\psi\\right)^{2} + 0.139 \\left(\\frac{d}{d z} \\psi\\right)^{2}\\right)}{c_{s}^{2}} + \\frac{k_{\\rho\\rho} \\left(- 0.111 \\left(\\frac{d}{d x} \\rho\\right)^{2} - 0.111 \\left(\\frac{d}{d y} \\rho\\right)^{2} + 0.139 \\left(\\frac{d}{d z} \\rho\\right)^{2}\\right)}{c_{s}^{2}} + \\frac{0.0555555555555556 p_{b}}{c_{s}^{2}} + \\frac{0.0555555555555556 \\rho u_{2}}{c_{s}^{2}}$ </td></tr><tr><td colspan=\"2\" style=\"text-align: left;\"> $f_6 = - 0.0555555555555556 c_{s}^{2} \\rho u_{0}^{2} - 0.0555555555555556 c_{s}^{2} \\rho u_{1}^{2} + 0.0555555555555556 \\rho u_{2}^{2} \\cdot \\left(1 - 1.0 c_{s}^{2}\\right) + \\frac{k_{\\phi\\phi} \\left(- 0.111 \\left(\\frac{d}{d x} \\phi\\right)^{2} - 0.111 \\left(\\frac{d}{d y} \\phi\\right)^{2} + 0.139 \\left(\\frac{d}{d z} \\phi\\right)^{2}\\right)}{c_{s}^{2}} + \\frac{k_{\\psi\\psi} \\left(- 0.111 \\left(\\frac{d}{d x} \\psi\\right)^{2} - 0.111 \\left(\\frac{d}{d y} \\psi\\right)^{2} + 0.139 \\left(\\frac{d}{d z} \\psi\\right)^{2}\\right)}{c_{s}^{2}} + \\frac{k_{\\rho\\rho} \\left(- 0.111 \\left(\\frac{d}{d x} \\rho\\right)^{2} - 0.111 \\left(\\frac{d}{d y} \\rho\\right)^{2} + 0.139 \\left(\\frac{d}{d z} \\rho\\right)^{2}\\right)}{c_{s}^{2}} + \\frac{0.0555555555555556 p_{b}}{c_{s}^{2}} - \\frac{0.0555555555555556 \\rho u_{2}}{c_{s}^{2}}$ </td></tr><tr><td colspan=\"2\" style=\"text-align: left;\"> $f_7 = - 0.0277777777777778 c_{s}^{2} \\rho u_{2}^{2} + 0.0277777777777778 \\rho u_{0}^{2} \\cdot \\left(1 - 1.0 c_{s}^{2}\\right) - 0.0555555555555556 \\rho u_{0} u_{1} + 0.0277777777777778 \\rho u_{1}^{2} \\cdot \\left(1 - 1.0 c_{s}^{2}\\right) + \\frac{k_{\\phi\\phi} \\left(- 0.014 \\left(\\frac{d}{d x} \\phi\\right)^{2} + 0.083 \\frac{d}{d x} \\phi \\frac{d}{d y} \\phi - 0.014 \\left(\\frac{d}{d y} \\phi\\right)^{2} + 0.028 \\left(\\frac{d}{d z} \\phi\\right)^{2}\\right)}{c_{s}^{2}} + \\frac{k_{\\psi\\psi} \\left(- 0.014 \\left(\\frac{d}{d x} \\psi\\right)^{2} + 0.083 \\frac{d}{d x} \\psi \\frac{d}{d y} \\psi - 0.014 \\left(\\frac{d}{d y} \\psi\\right)^{2} + 0.028 \\left(\\frac{d}{d z} \\psi\\right)^{2}\\right)}{c_{s}^{2}} + \\frac{k_{\\rho\\rho} \\left(- 0.014 \\left(\\frac{d}{d x} \\rho\\right)^{2} + 0.083 \\frac{d}{d x} \\rho \\frac{d}{d y} \\rho - 0.014 \\left(\\frac{d}{d y} \\rho\\right)^{2} + 0.028 \\left(\\frac{d}{d z} \\rho\\right)^{2}\\right)}{c_{s}^{2}} + \\frac{0.0277777777777778 p_{b}}{c_{s}^{2}} - \\frac{0.0277777777777778 \\rho u_{0}}{c_{s}^{2}} + \\frac{0.0277777777777778 \\rho u_{1}}{c_{s}^{2}}$ </td></tr><tr><td colspan=\"2\" style=\"text-align: left;\"> $f_8 = - 0.0277777777777778 c_{s}^{2} \\rho u_{2}^{2} + 0.0277777777777778 \\rho u_{0}^{2} \\cdot \\left(1 - 1.0 c_{s}^{2}\\right) + 0.0555555555555556 \\rho u_{0} u_{1} + 0.0277777777777778 \\rho u_{1}^{2} \\cdot \\left(1 - 1.0 c_{s}^{2}\\right) + \\frac{k_{\\phi\\phi} \\left(- 0.014 \\left(\\frac{d}{d x} \\phi\\right)^{2} - 0.083 \\frac{d}{d x} \\phi \\frac{d}{d y} \\phi - 0.014 \\left(\\frac{d}{d y} \\phi\\right)^{2} + 0.028 \\left(\\frac{d}{d z} \\phi\\right)^{2}\\right)}{c_{s}^{2}} + \\frac{k_{\\psi\\psi} \\left(- 0.014 \\left(\\frac{d}{d x} \\psi\\right)^{2} - 0.083 \\frac{d}{d x} \\psi \\frac{d}{d y} \\psi - 0.014 \\left(\\frac{d}{d y} \\psi\\right)^{2} + 0.028 \\left(\\frac{d}{d z} \\psi\\right)^{2}\\right)}{c_{s}^{2}} + \\frac{k_{\\rho\\rho} \\left(- 0.014 \\left(\\frac{d}{d x} \\rho\\right)^{2} - 0.083 \\frac{d}{d x} \\rho \\frac{d}{d y} \\rho - 0.014 \\left(\\frac{d}{d y} \\rho\\right)^{2} + 0.028 \\left(\\frac{d}{d z} \\rho\\right)^{2}\\right)}{c_{s}^{2}} + \\frac{0.0277777777777778 p_{b}}{c_{s}^{2}} + \\frac{0.0277777777777778 \\rho u_{0}}{c_{s}^{2}} + \\frac{0.0277777777777778 \\rho u_{1}}{c_{s}^{2}}$ </td></tr><tr><td colspan=\"2\" style=\"text-align: left;\"> $f_9 = - 0.0277777777777778 c_{s}^{2} \\rho u_{2}^{2} + 0.0277777777777778 \\rho u_{0}^{2} \\cdot \\left(1 - 1.0 c_{s}^{2}\\right) + 0.0555555555555556 \\rho u_{0} u_{1} + 0.0277777777777778 \\rho u_{1}^{2} \\cdot \\left(1 - 1.0 c_{s}^{2}\\right) + \\frac{k_{\\phi\\phi} \\left(- 0.014 \\left(\\frac{d}{d x} \\phi\\right)^{2} - 0.083 \\frac{d}{d x} \\phi \\frac{d}{d y} \\phi - 0.014 \\left(\\frac{d}{d y} \\phi\\right)^{2} + 0.028 \\left(\\frac{d}{d z} \\phi\\right)^{2}\\right)}{c_{s}^{2}} + \\frac{k_{\\psi\\psi} \\left(- 0.014 \\left(\\frac{d}{d x} \\psi\\right)^{2} - 0.083 \\frac{d}{d x} \\psi \\frac{d}{d y} \\psi - 0.014 \\left(\\frac{d}{d y} \\psi\\right)^{2} + 0.028 \\left(\\frac{d}{d z} \\psi\\right)^{2}\\right)}{c_{s}^{2}} + \\frac{k_{\\rho\\rho} \\left(- 0.014 \\left(\\frac{d}{d x} \\rho\\right)^{2} - 0.083 \\frac{d}{d x} \\rho \\frac{d}{d y} \\rho - 0.014 \\left(\\frac{d}{d y} \\rho\\right)^{2} + 0.028 \\left(\\frac{d}{d z} \\rho\\right)^{2}\\right)}{c_{s}^{2}} + \\frac{0.0277777777777778 p_{b}}{c_{s}^{2}} - \\frac{0.0277777777777778 \\rho u_{0}}{c_{s}^{2}} - \\frac{0.0277777777777778 \\rho u_{1}}{c_{s}^{2}}$ </td></tr><tr><td colspan=\"2\" style=\"text-align: left;\"> $f_10 = - 0.0277777777777778 c_{s}^{2} \\rho u_{2}^{2} + 0.0277777777777778 \\rho u_{0}^{2} \\cdot \\left(1 - 1.0 c_{s}^{2}\\right) - 0.0555555555555556 \\rho u_{0} u_{1} + 0.0277777777777778 \\rho u_{1}^{2} \\cdot \\left(1 - 1.0 c_{s}^{2}\\right) + \\frac{k_{\\phi\\phi} \\left(- 0.014 \\left(\\frac{d}{d x} \\phi\\right)^{2} + 0.083 \\frac{d}{d x} \\phi \\frac{d}{d y} \\phi - 0.014 \\left(\\frac{d}{d y} \\phi\\right)^{2} + 0.028 \\left(\\frac{d}{d z} \\phi\\right)^{2}\\right)}{c_{s}^{2}} + \\frac{k_{\\psi\\psi} \\left(- 0.014 \\left(\\frac{d}{d x} \\psi\\right)^{2} + 0.083 \\frac{d}{d x} \\psi \\frac{d}{d y} \\psi - 0.014 \\left(\\frac{d}{d y} \\psi\\right)^{2} + 0.028 \\left(\\frac{d}{d z} \\psi\\right)^{2}\\right)}{c_{s}^{2}} + \\frac{k_{\\rho\\rho} \\left(- 0.014 \\left(\\frac{d}{d x} \\rho\\right)^{2} + 0.083 \\frac{d}{d x} \\rho \\frac{d}{d y} \\rho - 0.014 \\left(\\frac{d}{d y} \\rho\\right)^{2} + 0.028 \\left(\\frac{d}{d z} \\rho\\right)^{2}\\right)}{c_{s}^{2}} + \\frac{0.0277777777777778 p_{b}}{c_{s}^{2}} + \\frac{0.0277777777777778 \\rho u_{0}}{c_{s}^{2}} - \\frac{0.0277777777777778 \\rho u_{1}}{c_{s}^{2}}$ </td></tr><tr><td colspan=\"2\" style=\"text-align: left;\"> $f_11 = - 0.0277777777777778 c_{s}^{2} \\rho u_{0}^{2} + 0.0277777777777778 \\rho u_{1}^{2} \\cdot \\left(1 - 1.0 c_{s}^{2}\\right) + 0.0555555555555556 \\rho u_{1} u_{2} + 0.0277777777777778 \\rho u_{2}^{2} \\cdot \\left(1 - 1.0 c_{s}^{2}\\right) + \\frac{k_{\\phi\\phi} \\left(0.028 \\left(\\frac{d}{d x} \\phi\\right)^{2} - 0.014 \\left(\\frac{d}{d y} \\phi\\right)^{2} + 0.083 \\frac{d}{d y} \\phi \\frac{d}{d z} \\phi - 0.014 \\left(\\frac{d}{d z} \\phi\\right)^{2}\\right)}{c_{s}^{2}} + \\frac{k_{\\psi\\psi} \\left(0.028 \\left(\\frac{d}{d x} \\psi\\right)^{2} - 0.014 \\left(\\frac{d}{d y} \\psi\\right)^{2} + 0.083 \\frac{d}{d y} \\psi \\frac{d}{d z} \\psi - 0.014 \\left(\\frac{d}{d z} \\psi\\right)^{2}\\right)}{c_{s}^{2}} + \\frac{k_{\\rho\\rho} \\left(0.028 \\left(\\frac{d}{d x} \\rho\\right)^{2} - 0.014 \\left(\\frac{d}{d y} \\rho\\right)^{2} + 0.083 \\frac{d}{d y} \\rho \\frac{d}{d z} \\rho - 0.014 \\left(\\frac{d}{d z} \\rho\\right)^{2}\\right)}{c_{s}^{2}} + \\frac{0.0277777777777778 p_{b}}{c_{s}^{2}} + \\frac{0.0277777777777778 \\rho u_{1}}{c_{s}^{2}} + \\frac{0.0277777777777778 \\rho u_{2}}{c_{s}^{2}}$ </td></tr><tr><td colspan=\"2\" style=\"text-align: left;\"> $f_12 = - 0.0277777777777778 c_{s}^{2} \\rho u_{0}^{2} + 0.0277777777777778 \\rho u_{1}^{2} \\cdot \\left(1 - 1.0 c_{s}^{2}\\right) - 0.0555555555555556 \\rho u_{1} u_{2} + 0.0277777777777778 \\rho u_{2}^{2} \\cdot \\left(1 - 1.0 c_{s}^{2}\\right) + \\frac{k_{\\phi\\phi} \\left(0.028 \\left(\\frac{d}{d x} \\phi\\right)^{2} - 0.014 \\left(\\frac{d}{d y} \\phi\\right)^{2} - 0.083 \\frac{d}{d y} \\phi \\frac{d}{d z} \\phi - 0.014 \\left(\\frac{d}{d z} \\phi\\right)^{2}\\right)}{c_{s}^{2}} + \\frac{k_{\\psi\\psi} \\left(0.028 \\left(\\frac{d}{d x} \\psi\\right)^{2} - 0.014 \\left(\\frac{d}{d y} \\psi\\right)^{2} - 0.083 \\frac{d}{d y} \\psi \\frac{d}{d z} \\psi - 0.014 \\left(\\frac{d}{d z} \\psi\\right)^{2}\\right)}{c_{s}^{2}} + \\frac{k_{\\rho\\rho} \\left(0.028 \\left(\\frac{d}{d x} \\rho\\right)^{2} - 0.014 \\left(\\frac{d}{d y} \\rho\\right)^{2} - 0.083 \\frac{d}{d y} \\rho \\frac{d}{d z} \\rho - 0.014 \\left(\\frac{d}{d z} \\rho\\right)^{2}\\right)}{c_{s}^{2}} + \\frac{0.0277777777777778 p_{b}}{c_{s}^{2}} - \\frac{0.0277777777777778 \\rho u_{1}}{c_{s}^{2}} + \\frac{0.0277777777777778 \\rho u_{2}}{c_{s}^{2}}$ </td></tr><tr><td colspan=\"2\" style=\"text-align: left;\"> $f_13 = - 0.0277777777777778 c_{s}^{2} \\rho u_{1}^{2} + 0.0277777777777778 \\rho u_{0}^{2} \\cdot \\left(1 - 1.0 c_{s}^{2}\\right) - 0.0555555555555556 \\rho u_{0} u_{2} + 0.0277777777777778 \\rho u_{2}^{2} \\cdot \\left(1 - 1.0 c_{s}^{2}\\right) + \\frac{k_{\\phi\\phi} \\left(0.028 \\left(\\frac{d}{d x} \\phi\\right)^{2} - 0.014 \\left(\\frac{d}{d y} \\phi\\right)^{2} - 0.083 \\frac{d}{d y} \\phi \\frac{d}{d z} \\phi - 0.014 \\left(\\frac{d}{d z} \\phi\\right)^{2}\\right)}{c_{s}^{2}} + \\frac{k_{\\psi\\psi} \\left(0.028 \\left(\\frac{d}{d x} \\psi\\right)^{2} - 0.014 \\left(\\frac{d}{d y} \\psi\\right)^{2} - 0.083 \\frac{d}{d y} \\psi \\frac{d}{d z} \\psi - 0.014 \\left(\\frac{d}{d z} \\psi\\right)^{2}\\right)}{c_{s}^{2}} + \\frac{k_{\\rho\\rho} \\left(0.028 \\left(\\frac{d}{d x} \\rho\\right)^{2} - 0.014 \\left(\\frac{d}{d y} \\rho\\right)^{2} - 0.083 \\frac{d}{d y} \\rho \\frac{d}{d z} \\rho - 0.014 \\left(\\frac{d}{d z} \\rho\\right)^{2}\\right)}{c_{s}^{2}} + \\frac{0.0277777777777778 p_{b}}{c_{s}^{2}} - \\frac{0.0277777777777778 \\rho u_{0}}{c_{s}^{2}} + \\frac{0.0277777777777778 \\rho u_{2}}{c_{s}^{2}}$ </td></tr><tr><td colspan=\"2\" style=\"text-align: left;\"> $f_14 = - 0.0277777777777778 c_{s}^{2} \\rho u_{1}^{2} + 0.0277777777777778 \\rho u_{0}^{2} \\cdot \\left(1 - 1.0 c_{s}^{2}\\right) + 0.0555555555555556 \\rho u_{0} u_{2} + 0.0277777777777778 \\rho u_{2}^{2} \\cdot \\left(1 - 1.0 c_{s}^{2}\\right) + \\frac{k_{\\phi\\phi} \\left(0.028 \\left(\\frac{d}{d x} \\phi\\right)^{2} - 0.014 \\left(\\frac{d}{d y} \\phi\\right)^{2} + 0.083 \\frac{d}{d y} \\phi \\frac{d}{d z} \\phi - 0.014 \\left(\\frac{d}{d z} \\phi\\right)^{2}\\right)}{c_{s}^{2}} + \\frac{k_{\\psi\\psi} \\left(0.028 \\left(\\frac{d}{d x} \\psi\\right)^{2} - 0.014 \\left(\\frac{d}{d y} \\psi\\right)^{2} + 0.083 \\frac{d}{d y} \\psi \\frac{d}{d z} \\psi - 0.014 \\left(\\frac{d}{d z} \\psi\\right)^{2}\\right)}{c_{s}^{2}} + \\frac{k_{\\rho\\rho} \\left(0.028 \\left(\\frac{d}{d x} \\rho\\right)^{2} - 0.014 \\left(\\frac{d}{d y} \\rho\\right)^{2} + 0.083 \\frac{d}{d y} \\rho \\frac{d}{d z} \\rho - 0.014 \\left(\\frac{d}{d z} \\rho\\right)^{2}\\right)}{c_{s}^{2}} + \\frac{0.0277777777777778 p_{b}}{c_{s}^{2}} + \\frac{0.0277777777777778 \\rho u_{0}}{c_{s}^{2}} + \\frac{0.0277777777777778 \\rho u_{2}}{c_{s}^{2}}$ </td></tr><tr><td colspan=\"2\" style=\"text-align: left;\"> $f_15 = - 0.0277777777777778 c_{s}^{2} \\rho u_{0}^{2} + 0.0277777777777778 \\rho u_{1}^{2} \\cdot \\left(1 - 1.0 c_{s}^{2}\\right) - 0.0555555555555556 \\rho u_{1} u_{2} + 0.0277777777777778 \\rho u_{2}^{2} \\cdot \\left(1 - 1.0 c_{s}^{2}\\right) + \\frac{k_{\\phi\\phi} \\left(- 0.014 \\left(\\frac{d}{d x} \\phi\\right)^{2} + 0.083 \\frac{d}{d x} \\phi \\frac{d}{d z} \\phi + 0.028 \\left(\\frac{d}{d y} \\phi\\right)^{2} - 0.014 \\left(\\frac{d}{d z} \\phi\\right)^{2}\\right)}{c_{s}^{2}} + \\frac{k_{\\psi\\psi} \\left(- 0.014 \\left(\\frac{d}{d x} \\psi\\right)^{2} + 0.083 \\frac{d}{d x} \\psi \\frac{d}{d z} \\psi + 0.028 \\left(\\frac{d}{d y} \\psi\\right)^{2} - 0.014 \\left(\\frac{d}{d z} \\psi\\right)^{2}\\right)}{c_{s}^{2}} + \\frac{k_{\\rho\\rho} \\left(- 0.014 \\left(\\frac{d}{d x} \\rho\\right)^{2} + 0.083 \\frac{d}{d x} \\rho \\frac{d}{d z} \\rho + 0.028 \\left(\\frac{d}{d y} \\rho\\right)^{2} - 0.014 \\left(\\frac{d}{d z} \\rho\\right)^{2}\\right)}{c_{s}^{2}} + \\frac{0.0277777777777778 p_{b}}{c_{s}^{2}} + \\frac{0.0277777777777778 \\rho u_{1}}{c_{s}^{2}} - \\frac{0.0277777777777778 \\rho u_{2}}{c_{s}^{2}}$ </td></tr><tr><td colspan=\"2\" style=\"text-align: left;\"> $f_16 = - 0.0277777777777778 c_{s}^{2} \\rho u_{0}^{2} + 0.0277777777777778 \\rho u_{1}^{2} \\cdot \\left(1 - 1.0 c_{s}^{2}\\right) + 0.0555555555555556 \\rho u_{1} u_{2} + 0.0277777777777778 \\rho u_{2}^{2} \\cdot \\left(1 - 1.0 c_{s}^{2}\\right) + \\frac{k_{\\phi\\phi} \\left(- 0.014 \\left(\\frac{d}{d x} \\phi\\right)^{2} - 0.083 \\frac{d}{d x} \\phi \\frac{d}{d z} \\phi + 0.028 \\left(\\frac{d}{d y} \\phi\\right)^{2} - 0.014 \\left(\\frac{d}{d z} \\phi\\right)^{2}\\right)}{c_{s}^{2}} + \\frac{k_{\\psi\\psi} \\left(- 0.014 \\left(\\frac{d}{d x} \\psi\\right)^{2} - 0.083 \\frac{d}{d x} \\psi \\frac{d}{d z} \\psi + 0.028 \\left(\\frac{d}{d y} \\psi\\right)^{2} - 0.014 \\left(\\frac{d}{d z} \\psi\\right)^{2}\\right)}{c_{s}^{2}} + \\frac{k_{\\rho\\rho} \\left(- 0.014 \\left(\\frac{d}{d x} \\rho\\right)^{2} - 0.083 \\frac{d}{d x} \\rho \\frac{d}{d z} \\rho + 0.028 \\left(\\frac{d}{d y} \\rho\\right)^{2} - 0.014 \\left(\\frac{d}{d z} \\rho\\right)^{2}\\right)}{c_{s}^{2}} + \\frac{0.0277777777777778 p_{b}}{c_{s}^{2}} - \\frac{0.0277777777777778 \\rho u_{1}}{c_{s}^{2}} - \\frac{0.0277777777777778 \\rho u_{2}}{c_{s}^{2}}$ </td></tr><tr><td colspan=\"2\" style=\"text-align: left;\"> $f_17 = - 0.0277777777777778 c_{s}^{2} \\rho u_{1}^{2} + 0.0277777777777778 \\rho u_{0}^{2} \\cdot \\left(1 - 1.0 c_{s}^{2}\\right) + 0.0555555555555556 \\rho u_{0} u_{2} + 0.0277777777777778 \\rho u_{2}^{2} \\cdot \\left(1 - 1.0 c_{s}^{2}\\right) + \\frac{k_{\\phi\\phi} \\left(- 0.014 \\left(\\frac{d}{d x} \\phi\\right)^{2} - 0.083 \\frac{d}{d x} \\phi \\frac{d}{d z} \\phi + 0.028 \\left(\\frac{d}{d y} \\phi\\right)^{2} - 0.014 \\left(\\frac{d}{d z} \\phi\\right)^{2}\\right)}{c_{s}^{2}} + \\frac{k_{\\psi\\psi} \\left(- 0.014 \\left(\\frac{d}{d x} \\psi\\right)^{2} - 0.083 \\frac{d}{d x} \\psi \\frac{d}{d z} \\psi + 0.028 \\left(\\frac{d}{d y} \\psi\\right)^{2} - 0.014 \\left(\\frac{d}{d z} \\psi\\right)^{2}\\right)}{c_{s}^{2}} + \\frac{k_{\\rho\\rho} \\left(- 0.014 \\left(\\frac{d}{d x} \\rho\\right)^{2} - 0.083 \\frac{d}{d x} \\rho \\frac{d}{d z} \\rho + 0.028 \\left(\\frac{d}{d y} \\rho\\right)^{2} - 0.014 \\left(\\frac{d}{d z} \\rho\\right)^{2}\\right)}{c_{s}^{2}} + \\frac{0.0277777777777778 p_{b}}{c_{s}^{2}} - \\frac{0.0277777777777778 \\rho u_{0}}{c_{s}^{2}} - \\frac{0.0277777777777778 \\rho u_{2}}{c_{s}^{2}}$ </td></tr><tr><td colspan=\"2\" style=\"text-align: left;\"> $f_18 = - 0.0277777777777778 c_{s}^{2} \\rho u_{1}^{2} + 0.0277777777777778 \\rho u_{0}^{2} \\cdot \\left(1 - 1.0 c_{s}^{2}\\right) - 0.0555555555555556 \\rho u_{0} u_{2} + 0.0277777777777778 \\rho u_{2}^{2} \\cdot \\left(1 - 1.0 c_{s}^{2}\\right) + \\frac{k_{\\phi\\phi} \\left(- 0.014 \\left(\\frac{d}{d x} \\phi\\right)^{2} + 0.083 \\frac{d}{d x} \\phi \\frac{d}{d z} \\phi + 0.028 \\left(\\frac{d}{d y} \\phi\\right)^{2} - 0.014 \\left(\\frac{d}{d z} \\phi\\right)^{2}\\right)}{c_{s}^{2}} + \\frac{k_{\\psi\\psi} \\left(- 0.014 \\left(\\frac{d}{d x} \\psi\\right)^{2} + 0.083 \\frac{d}{d x} \\psi \\frac{d}{d z} \\psi + 0.028 \\left(\\frac{d}{d y} \\psi\\right)^{2} - 0.014 \\left(\\frac{d}{d z} \\psi\\right)^{2}\\right)}{c_{s}^{2}} + \\frac{k_{\\rho\\rho} \\left(- 0.014 \\left(\\frac{d}{d x} \\rho\\right)^{2} + 0.083 \\frac{d}{d x} \\rho \\frac{d}{d z} \\rho + 0.028 \\left(\\frac{d}{d y} \\rho\\right)^{2} - 0.014 \\left(\\frac{d}{d z} \\rho\\right)^{2}\\right)}{c_{s}^{2}} + \\frac{0.0277777777777778 p_{b}}{c_{s}^{2}} + \\frac{0.0277777777777778 \\rho u_{0}}{c_{s}^{2}} - \\frac{0.0277777777777778 \\rho u_{2}}{c_{s}^{2}}$ </td></tr></table>\n",
       "        <table style=\"border:none; width: 100%\">\n",
       "            <tr> <th colspan=\"3\" style=\"text-align: left\"> Relaxation Info </th> </tr>\n",
       "            <tr>\n",
       "                <th>Moment</th>\n",
       "                <th>Eq. Value </th>\n",
       "                <th>Relaxation Rate</th>\n",
       "            </tr>\n",
       "        <tr style=\"border:none\">\n",
       "                            <td style=\"border:none\">$1$</td>\n",
       "                            <td style=\"border:none\">$- 1.0 c_{s}^{2} \\rho u_{0}^{2} - 1.0 c_{s}^{2} \\rho u_{1}^{2} - 1.0 c_{s}^{2} \\rho u_{2}^{2} + 0.333333333333333 \\rho u_{0}^{2} + 0.333333333333333 \\rho u_{1}^{2} + 0.333333333333333 \\rho u_{2}^{2} + \\frac{0.00100000000000006 k_{\\phi\\phi} \\left(\\frac{d}{d x} \\phi\\right)^{2}}{c_{s}^{2}} + \\frac{0.00100000000000003 k_{\\phi\\phi} \\left(\\frac{d}{d y} \\phi\\right)^{2}}{c_{s}^{2}} + \\frac{0.001 k_{\\phi\\phi} \\left(\\frac{d}{d z} \\phi\\right)^{2}}{c_{s}^{2}} + \\frac{0.00100000000000006 k_{\\psi\\psi} \\left(\\frac{d}{d x} \\psi\\right)^{2}}{c_{s}^{2}} + \\frac{0.00100000000000003 k_{\\psi\\psi} \\left(\\frac{d}{d y} \\psi\\right)^{2}}{c_{s}^{2}} + \\frac{0.001 k_{\\psi\\psi} \\left(\\frac{d}{d z} \\psi\\right)^{2}}{c_{s}^{2}} + \\frac{0.00100000000000006 k_{\\rho\\rho} \\left(\\frac{d}{d x} \\rho\\right)^{2}}{c_{s}^{2}} + \\frac{0.00100000000000003 k_{\\rho\\rho} \\left(\\frac{d}{d y} \\rho\\right)^{2}}{c_{s}^{2}} + \\frac{0.001 k_{\\rho\\rho} \\left(\\frac{d}{d z} \\rho\\right)^{2}}{c_{s}^{2}} + \\frac{1.0 p_{b}}{c_{s}^{2}}$</td>\n",
       "                            <td style=\"border:none\">$\\omega$</td>\n",
       "                         </tr>\n",
       "<tr style=\"border:none\">\n",
       "                            <td style=\"border:none\">$x$</td>\n",
       "                            <td style=\"border:none\">$\\frac{0.166 k_{\\phi\\phi} \\frac{d}{d x} \\phi \\frac{d}{d z} \\phi}{c_{s}^{2}} + \\frac{0.166 k_{\\phi\\phi} \\frac{d}{d y} \\phi \\frac{d}{d z} \\phi}{c_{s}^{2}} + \\frac{0.166 k_{\\psi\\psi} \\frac{d}{d x} \\psi \\frac{d}{d z} \\psi}{c_{s}^{2}} + \\frac{0.166 k_{\\psi\\psi} \\frac{d}{d y} \\psi \\frac{d}{d z} \\psi}{c_{s}^{2}} + \\frac{0.166 k_{\\rho\\rho} \\frac{d}{d x} \\rho \\frac{d}{d z} \\rho}{c_{s}^{2}} + \\frac{0.166 k_{\\rho\\rho} \\frac{d}{d y} \\rho \\frac{d}{d z} \\rho}{c_{s}^{2}} + \\frac{0.333333333333333 \\rho u_{0}}{c_{s}^{2}}$</td>\n",
       "                            <td style=\"border:none\">$\\omega$</td>\n",
       "                         </tr>\n",
       "<tr style=\"border:none\">\n",
       "                            <td style=\"border:none\">$y$</td>\n",
       "                            <td style=\"border:none\">$\\frac{0.166 k_{\\phi\\phi} \\frac{d}{d x} \\phi \\frac{d}{d z} \\phi}{c_{s}^{2}} + \\frac{0.166 k_{\\phi\\phi} \\frac{d}{d y} \\phi \\frac{d}{d z} \\phi}{c_{s}^{2}} + \\frac{0.166 k_{\\psi\\psi} \\frac{d}{d x} \\psi \\frac{d}{d z} \\psi}{c_{s}^{2}} + \\frac{0.166 k_{\\psi\\psi} \\frac{d}{d y} \\psi \\frac{d}{d z} \\psi}{c_{s}^{2}} + \\frac{0.166 k_{\\rho\\rho} \\frac{d}{d x} \\rho \\frac{d}{d z} \\rho}{c_{s}^{2}} + \\frac{0.166 k_{\\rho\\rho} \\frac{d}{d y} \\rho \\frac{d}{d z} \\rho}{c_{s}^{2}} + \\frac{0.333333333333333 \\rho u_{1}}{c_{s}^{2}}$</td>\n",
       "                            <td style=\"border:none\">$\\omega$</td>\n",
       "                         </tr>\n",
       "<tr style=\"border:none\">\n",
       "                            <td style=\"border:none\">$z$</td>\n",
       "                            <td style=\"border:none\">$\\frac{0.168 k_{\\phi\\phi} \\left(\\frac{d}{d x} \\phi\\right)^{2}}{c_{s}^{2}} - \\frac{0.168 k_{\\phi\\phi} \\left(\\frac{d}{d y} \\phi\\right)^{2}}{c_{s}^{2}} + \\frac{0.168 k_{\\psi\\psi} \\left(\\frac{d}{d x} \\psi\\right)^{2}}{c_{s}^{2}} - \\frac{0.168 k_{\\psi\\psi} \\left(\\frac{d}{d y} \\psi\\right)^{2}}{c_{s}^{2}} + \\frac{0.168 k_{\\rho\\rho} \\left(\\frac{d}{d x} \\rho\\right)^{2}}{c_{s}^{2}} - \\frac{0.168 k_{\\rho\\rho} \\left(\\frac{d}{d y} \\rho\\right)^{2}}{c_{s}^{2}} + \\frac{0.333333333333333 \\rho u_{2}}{c_{s}^{2}}$</td>\n",
       "                            <td style=\"border:none\">$\\omega$</td>\n",
       "                         </tr>\n",
       "<tr style=\"border:none\">\n",
       "                            <td style=\"border:none\">$x^{2} + y^{2} + z^{2} - 1$</td>\n",
       "                            <td style=\"border:none\">$0.222222222222222 \\rho u_{0}^{2} + 0.222222222222222 \\rho u_{1}^{2} + 0.222222222222222 \\rho u_{2}^{2} - \\frac{0.167 k_{\\phi\\phi} \\left(\\frac{d}{d x} \\phi\\right)^{2}}{c_{s}^{2}} - \\frac{0.167 k_{\\phi\\phi} \\left(\\frac{d}{d y} \\phi\\right)^{2}}{c_{s}^{2}} - \\frac{0.167 k_{\\phi\\phi} \\left(\\frac{d}{d z} \\phi\\right)^{2}}{c_{s}^{2}} - \\frac{0.167 k_{\\psi\\psi} \\left(\\frac{d}{d x} \\psi\\right)^{2}}{c_{s}^{2}} - \\frac{0.167 k_{\\psi\\psi} \\left(\\frac{d}{d y} \\psi\\right)^{2}}{c_{s}^{2}} - \\frac{0.167 k_{\\psi\\psi} \\left(\\frac{d}{d z} \\psi\\right)^{2}}{c_{s}^{2}} - \\frac{0.167 k_{\\rho\\rho} \\left(\\frac{d}{d x} \\rho\\right)^{2}}{c_{s}^{2}} - \\frac{0.167 k_{\\rho\\rho} \\left(\\frac{d}{d y} \\rho\\right)^{2}}{c_{s}^{2}} - \\frac{0.167 k_{\\rho\\rho} \\left(\\frac{d}{d z} \\rho\\right)^{2}}{c_{s}^{2}} + \\frac{1.11022302462516 \\cdot 10^{-16} p_{b}}{c_{s}^{2}}$</td>\n",
       "                            <td style=\"border:none\">$\\omega$</td>\n",
       "                         </tr>\n",
       "<tr style=\"border:none\">\n",
       "                            <td style=\"border:none\">$2 x^{2} - y^{2} - z^{2}$</td>\n",
       "                            <td style=\"border:none\">$- 1.11022302462516 \\cdot 10^{-16} c_{s}^{2} \\rho u_{0}^{2} + 5.55111512312578 \\cdot 10^{-17} c_{s}^{2} \\rho u_{1}^{2} + 5.55111512312578 \\cdot 10^{-17} c_{s}^{2} \\rho u_{2}^{2} + 0.444444444444445 \\rho u_{0}^{2} - 0.222222222222222 \\rho u_{1}^{2} - 0.222222222222222 \\rho u_{2}^{2} - \\frac{0.584 k_{\\phi\\phi} \\left(\\frac{d}{d x} \\phi\\right)^{2}}{c_{s}^{2}} + \\frac{0.916 k_{\\phi\\phi} \\left(\\frac{d}{d y} \\phi\\right)^{2}}{c_{s}^{2}} - \\frac{0.332 k_{\\phi\\phi} \\left(\\frac{d}{d z} \\phi\\right)^{2}}{c_{s}^{2}} - \\frac{0.584 k_{\\psi\\psi} \\left(\\frac{d}{d x} \\psi\\right)^{2}}{c_{s}^{2}} + \\frac{0.916 k_{\\psi\\psi} \\left(\\frac{d}{d y} \\psi\\right)^{2}}{c_{s}^{2}} - \\frac{0.332 k_{\\psi\\psi} \\left(\\frac{d}{d z} \\psi\\right)^{2}}{c_{s}^{2}} - \\frac{0.584 k_{\\rho\\rho} \\left(\\frac{d}{d x} \\rho\\right)^{2}}{c_{s}^{2}} + \\frac{0.916 k_{\\rho\\rho} \\left(\\frac{d}{d y} \\rho\\right)^{2}}{c_{s}^{2}} - \\frac{0.332 k_{\\rho\\rho} \\left(\\frac{d}{d z} \\rho\\right)^{2}}{c_{s}^{2}}$</td>\n",
       "                            <td style=\"border:none\">$\\omega$</td>\n",
       "                         </tr>\n",
       "<tr style=\"border:none\">\n",
       "                            <td style=\"border:none\">$y^{2} - z^{2}$</td>\n",
       "                            <td style=\"border:none\">$- 5.55111512312578 \\cdot 10^{-17} c_{s}^{2} \\rho u_{1}^{2} + 5.55111512312578 \\cdot 10^{-17} c_{s}^{2} \\rho u_{2}^{2} + 0.222222222222222 \\rho u_{1}^{2} - 0.222222222222222 \\rho u_{2}^{2} + \\frac{0.416 k_{\\phi\\phi} \\left(\\frac{d}{d x} \\phi\\right)^{2}}{c_{s}^{2}} - \\frac{0.084 k_{\\phi\\phi} \\left(\\frac{d}{d y} \\phi\\right)^{2}}{c_{s}^{2}} - \\frac{0.332 k_{\\phi\\phi} \\left(\\frac{d}{d z} \\phi\\right)^{2}}{c_{s}^{2}} + \\frac{0.416 k_{\\psi\\psi} \\left(\\frac{d}{d x} \\psi\\right)^{2}}{c_{s}^{2}} - \\frac{0.084 k_{\\psi\\psi} \\left(\\frac{d}{d y} \\psi\\right)^{2}}{c_{s}^{2}} - \\frac{0.332 k_{\\psi\\psi} \\left(\\frac{d}{d z} \\psi\\right)^{2}}{c_{s}^{2}} + \\frac{0.416 k_{\\rho\\rho} \\left(\\frac{d}{d x} \\rho\\right)^{2}}{c_{s}^{2}} - \\frac{0.084 k_{\\rho\\rho} \\left(\\frac{d}{d y} \\rho\\right)^{2}}{c_{s}^{2}} - \\frac{0.332 k_{\\rho\\rho} \\left(\\frac{d}{d z} \\rho\\right)^{2}}{c_{s}^{2}}$</td>\n",
       "                            <td style=\"border:none\">$\\omega$</td>\n",
       "                         </tr>\n",
       "<tr style=\"border:none\">\n",
       "                            <td style=\"border:none\">$x y$</td>\n",
       "                            <td style=\"border:none\">$0.222222222222222 \\rho u_{0} u_{1} - \\frac{0.332 k_{\\phi\\phi} \\frac{d}{d x} \\phi \\frac{d}{d y} \\phi}{c_{s}^{2}} - \\frac{0.332 k_{\\psi\\psi} \\frac{d}{d x} \\psi \\frac{d}{d y} \\psi}{c_{s}^{2}} - \\frac{0.332 k_{\\rho\\rho} \\frac{d}{d x} \\rho \\frac{d}{d y} \\rho}{c_{s}^{2}}$</td>\n",
       "                            <td style=\"border:none\">$\\omega$</td>\n",
       "                         </tr>\n",
       "<tr style=\"border:none\">\n",
       "                            <td style=\"border:none\">$y z$</td>\n",
       "                            <td style=\"border:none\">$0.222222222222222 \\rho u_{1} u_{2} - \\frac{0.166 k_{\\phi\\phi} \\frac{d}{d x} \\phi \\frac{d}{d z} \\phi}{c_{s}^{2}} + \\frac{0.166 k_{\\phi\\phi} \\frac{d}{d y} \\phi \\frac{d}{d z} \\phi}{c_{s}^{2}} - \\frac{0.166 k_{\\psi\\psi} \\frac{d}{d x} \\psi \\frac{d}{d z} \\psi}{c_{s}^{2}} + \\frac{0.166 k_{\\psi\\psi} \\frac{d}{d y} \\psi \\frac{d}{d z} \\psi}{c_{s}^{2}} - \\frac{0.166 k_{\\rho\\rho} \\frac{d}{d x} \\rho \\frac{d}{d z} \\rho}{c_{s}^{2}} + \\frac{0.166 k_{\\rho\\rho} \\frac{d}{d y} \\rho \\frac{d}{d z} \\rho}{c_{s}^{2}}$</td>\n",
       "                            <td style=\"border:none\">$\\omega$</td>\n",
       "                         </tr>\n",
       "<tr style=\"border:none\">\n",
       "                            <td style=\"border:none\">$x z$</td>\n",
       "                            <td style=\"border:none\">$0.222222222222222 \\rho u_{0} u_{2} - \\frac{0.166 k_{\\phi\\phi} \\frac{d}{d x} \\phi \\frac{d}{d z} \\phi}{c_{s}^{2}} + \\frac{0.166 k_{\\phi\\phi} \\frac{d}{d y} \\phi \\frac{d}{d z} \\phi}{c_{s}^{2}} - \\frac{0.166 k_{\\psi\\psi} \\frac{d}{d x} \\psi \\frac{d}{d z} \\psi}{c_{s}^{2}} + \\frac{0.166 k_{\\psi\\psi} \\frac{d}{d y} \\psi \\frac{d}{d z} \\psi}{c_{s}^{2}} - \\frac{0.166 k_{\\rho\\rho} \\frac{d}{d x} \\rho \\frac{d}{d z} \\rho}{c_{s}^{2}} + \\frac{0.166 k_{\\rho\\rho} \\frac{d}{d y} \\rho \\frac{d}{d z} \\rho}{c_{s}^{2}}$</td>\n",
       "                            <td style=\"border:none\">$\\omega$</td>\n",
       "                         </tr>\n",
       "<tr style=\"border:none\">\n",
       "                            <td style=\"border:none\">$x \\left(3 x^{2} + 3 y^{2} + 3 z^{2} - 5\\right)$</td>\n",
       "                            <td style=\"border:none\">$\\frac{0.166 k_{\\phi\\phi} \\frac{d}{d x} \\phi \\frac{d}{d z} \\phi}{c_{s}^{2}} + \\frac{0.166 k_{\\phi\\phi} \\frac{d}{d y} \\phi \\frac{d}{d z} \\phi}{c_{s}^{2}} + \\frac{0.166 k_{\\psi\\psi} \\frac{d}{d x} \\psi \\frac{d}{d z} \\psi}{c_{s}^{2}} + \\frac{0.166 k_{\\psi\\psi} \\frac{d}{d y} \\psi \\frac{d}{d z} \\psi}{c_{s}^{2}} + \\frac{0.166 k_{\\rho\\rho} \\frac{d}{d x} \\rho \\frac{d}{d z} \\rho}{c_{s}^{2}} + \\frac{0.166 k_{\\rho\\rho} \\frac{d}{d y} \\rho \\frac{d}{d z} \\rho}{c_{s}^{2}} - \\frac{3.33066907387547 \\cdot 10^{-16} \\rho u_{0}}{c_{s}^{2}}$</td>\n",
       "                            <td style=\"border:none\">$\\omega$</td>\n",
       "                         </tr>\n",
       "<tr style=\"border:none\">\n",
       "                            <td style=\"border:none\">$y \\left(3 x^{2} + 3 y^{2} + 3 z^{2} - 5\\right)$</td>\n",
       "                            <td style=\"border:none\">$\\frac{0.166 k_{\\phi\\phi} \\frac{d}{d x} \\phi \\frac{d}{d z} \\phi}{c_{s}^{2}} + \\frac{0.166 k_{\\phi\\phi} \\frac{d}{d y} \\phi \\frac{d}{d z} \\phi}{c_{s}^{2}} + \\frac{0.166 k_{\\psi\\psi} \\frac{d}{d x} \\psi \\frac{d}{d z} \\psi}{c_{s}^{2}} + \\frac{0.166 k_{\\psi\\psi} \\frac{d}{d y} \\psi \\frac{d}{d z} \\psi}{c_{s}^{2}} + \\frac{0.166 k_{\\rho\\rho} \\frac{d}{d x} \\rho \\frac{d}{d z} \\rho}{c_{s}^{2}} + \\frac{0.166 k_{\\rho\\rho} \\frac{d}{d y} \\rho \\frac{d}{d z} \\rho}{c_{s}^{2}} - \\frac{3.33066907387547 \\cdot 10^{-16} \\rho u_{1}}{c_{s}^{2}}$</td>\n",
       "                            <td style=\"border:none\">$\\omega$</td>\n",
       "                         </tr>\n",
       "<tr style=\"border:none\">\n",
       "                            <td style=\"border:none\">$z \\left(3 x^{2} + 3 y^{2} + 3 z^{2} - 5\\right)$</td>\n",
       "                            <td style=\"border:none\">$\\frac{0.168 k_{\\phi\\phi} \\left(\\frac{d}{d x} \\phi\\right)^{2}}{c_{s}^{2}} - \\frac{0.168 k_{\\phi\\phi} \\left(\\frac{d}{d y} \\phi\\right)^{2}}{c_{s}^{2}} + \\frac{0.168 k_{\\psi\\psi} \\left(\\frac{d}{d x} \\psi\\right)^{2}}{c_{s}^{2}} - \\frac{0.168 k_{\\psi\\psi} \\left(\\frac{d}{d y} \\psi\\right)^{2}}{c_{s}^{2}} + \\frac{0.168 k_{\\rho\\rho} \\left(\\frac{d}{d x} \\rho\\right)^{2}}{c_{s}^{2}} - \\frac{0.168 k_{\\rho\\rho} \\left(\\frac{d}{d y} \\rho\\right)^{2}}{c_{s}^{2}} - \\frac{3.33066907387547 \\cdot 10^{-16} \\rho u_{2}}{c_{s}^{2}}$</td>\n",
       "                            <td style=\"border:none\">$\\omega$</td>\n",
       "                         </tr>\n",
       "<tr style=\"border:none\">\n",
       "                            <td style=\"border:none\">$x \\left(y^{2} - z^{2}\\right)$</td>\n",
       "                            <td style=\"border:none\">$- \\frac{0.166 k_{\\phi\\phi} \\frac{d}{d x} \\phi \\frac{d}{d z} \\phi}{c_{s}^{2}} - \\frac{0.166 k_{\\phi\\phi} \\frac{d}{d y} \\phi \\frac{d}{d z} \\phi}{c_{s}^{2}} - \\frac{0.166 k_{\\psi\\psi} \\frac{d}{d x} \\psi \\frac{d}{d z} \\psi}{c_{s}^{2}} - \\frac{0.166 k_{\\psi\\psi} \\frac{d}{d y} \\psi \\frac{d}{d z} \\psi}{c_{s}^{2}} - \\frac{0.166 k_{\\rho\\rho} \\frac{d}{d x} \\rho \\frac{d}{d z} \\rho}{c_{s}^{2}} - \\frac{0.166 k_{\\rho\\rho} \\frac{d}{d y} \\rho \\frac{d}{d z} \\rho}{c_{s}^{2}}$</td>\n",
       "                            <td style=\"border:none\">$\\omega$</td>\n",
       "                         </tr>\n",
       "<tr style=\"border:none\">\n",
       "                            <td style=\"border:none\">$y \\left(- x^{2} + z^{2}\\right)$</td>\n",
       "                            <td style=\"border:none\">$\\frac{0.166 k_{\\phi\\phi} \\frac{d}{d x} \\phi \\frac{d}{d z} \\phi}{c_{s}^{2}} + \\frac{0.166 k_{\\phi\\phi} \\frac{d}{d y} \\phi \\frac{d}{d z} \\phi}{c_{s}^{2}} + \\frac{0.166 k_{\\psi\\psi} \\frac{d}{d x} \\psi \\frac{d}{d z} \\psi}{c_{s}^{2}} + \\frac{0.166 k_{\\psi\\psi} \\frac{d}{d y} \\psi \\frac{d}{d z} \\psi}{c_{s}^{2}} + \\frac{0.166 k_{\\rho\\rho} \\frac{d}{d x} \\rho \\frac{d}{d z} \\rho}{c_{s}^{2}} + \\frac{0.166 k_{\\rho\\rho} \\frac{d}{d y} \\rho \\frac{d}{d z} \\rho}{c_{s}^{2}}$</td>\n",
       "                            <td style=\"border:none\">$\\omega$</td>\n",
       "                         </tr>\n",
       "<tr style=\"border:none\">\n",
       "                            <td style=\"border:none\">$z \\left(x^{2} - y^{2}\\right)$</td>\n",
       "                            <td style=\"border:none\">$0$</td>\n",
       "                            <td style=\"border:none\">$\\omega$</td>\n",
       "                         </tr>\n",
       "<tr style=\"border:none\">\n",
       "                            <td style=\"border:none\">$3 x^{4} - 6 x^{2} + 3 y^{4} - 6 y^{2} + 3 z^{4} - 6 z^{2} + 1$</td>\n",
       "                            <td style=\"border:none\">$2.0 c_{s}^{2} \\rho u_{0}^{2} + 2.0 c_{s}^{2} \\rho u_{1}^{2} + 2.0 c_{s}^{2} \\rho u_{2}^{2} - 1.33333333333333 \\rho u_{0}^{2} - 1.33333333333333 \\rho u_{1}^{2} - 1.33333333333333 \\rho u_{2}^{2} + \\frac{0.499 k_{\\phi\\phi} \\left(\\frac{d}{d x} \\phi\\right)^{2}}{c_{s}^{2}} + \\frac{0.499 k_{\\phi\\phi} \\left(\\frac{d}{d y} \\phi\\right)^{2}}{c_{s}^{2}} + \\frac{0.499 k_{\\phi\\phi} \\left(\\frac{d}{d z} \\phi\\right)^{2}}{c_{s}^{2}} + \\frac{0.499 k_{\\psi\\psi} \\left(\\frac{d}{d x} \\psi\\right)^{2}}{c_{s}^{2}} + \\frac{0.499 k_{\\psi\\psi} \\left(\\frac{d}{d y} \\psi\\right)^{2}}{c_{s}^{2}} + \\frac{0.499 k_{\\psi\\psi} \\left(\\frac{d}{d z} \\psi\\right)^{2}}{c_{s}^{2}} + \\frac{0.499 k_{\\rho\\rho} \\left(\\frac{d}{d x} \\rho\\right)^{2}}{c_{s}^{2}} + \\frac{0.499 k_{\\rho\\rho} \\left(\\frac{d}{d y} \\rho\\right)^{2}}{c_{s}^{2}} + \\frac{0.499 k_{\\rho\\rho} \\left(\\frac{d}{d z} \\rho\\right)^{2}}{c_{s}^{2}} - \\frac{2.0 p_{b}}{c_{s}^{2}}$</td>\n",
       "                            <td style=\"border:none\">$\\omega$</td>\n",
       "                         </tr>\n",
       "<tr style=\"border:none\">\n",
       "                            <td style=\"border:none\">$\\left(2 x^{2} - y^{2} - z^{2}\\right) \\left(2 x^{2} + 2 y^{2} + 2 z^{2} - 3\\right)$</td>\n",
       "                            <td style=\"border:none\">$2.22044604925031 \\cdot 10^{-16} c_{s}^{2} \\rho u_{0}^{2} + 1.66533453693773 \\cdot 10^{-16} c_{s}^{2} \\rho u_{1}^{2} + 2.22044604925031 \\cdot 10^{-16} c_{s}^{2} \\rho u_{2}^{2} - 2.22044604925031 \\cdot 10^{-16} \\rho u_{0}^{2} - 5.55111512312578 \\cdot 10^{-17} \\rho u_{1}^{2} - 1.11022302462516 \\cdot 10^{-16} \\rho u_{2}^{2} + \\frac{0.416 k_{\\phi\\phi} \\left(\\frac{d}{d x} \\phi\\right)^{2}}{c_{s}^{2}} - \\frac{1.084 k_{\\phi\\phi} \\left(\\frac{d}{d y} \\phi\\right)^{2}}{c_{s}^{2}} + \\frac{0.668 k_{\\phi\\phi} \\left(\\frac{d}{d z} \\phi\\right)^{2}}{c_{s}^{2}} + \\frac{0.416 k_{\\psi\\psi} \\left(\\frac{d}{d x} \\psi\\right)^{2}}{c_{s}^{2}} - \\frac{1.084 k_{\\psi\\psi} \\left(\\frac{d}{d y} \\psi\\right)^{2}}{c_{s}^{2}} + \\frac{0.668 k_{\\psi\\psi} \\left(\\frac{d}{d z} \\psi\\right)^{2}}{c_{s}^{2}} + \\frac{0.416 k_{\\rho\\rho} \\left(\\frac{d}{d x} \\rho\\right)^{2}}{c_{s}^{2}} - \\frac{1.084 k_{\\rho\\rho} \\left(\\frac{d}{d y} \\rho\\right)^{2}}{c_{s}^{2}} + \\frac{0.668 k_{\\rho\\rho} \\left(\\frac{d}{d z} \\rho\\right)^{2}}{c_{s}^{2}}$</td>\n",
       "                            <td style=\"border:none\">$\\omega$</td>\n",
       "                         </tr>\n",
       "<tr style=\"border:none\">\n",
       "                            <td style=\"border:none\">$\\left(y^{2} - z^{2}\\right) \\left(2 x^{2} + 2 y^{2} + 2 z^{2} - 3\\right)$</td>\n",
       "                            <td style=\"border:none\">$- 5.55111512312578 \\cdot 10^{-17} c_{s}^{2} \\rho u_{0}^{2} - 5.55111512312578 \\cdot 10^{-17} c_{s}^{2} \\rho u_{1}^{2} - 5.55111512312578 \\cdot 10^{-17} \\rho u_{0}^{2} + 5.55111512312578 \\cdot 10^{-17} \\rho u_{1}^{2} - \\frac{0.584 k_{\\phi\\phi} \\left(\\frac{d}{d x} \\phi\\right)^{2}}{c_{s}^{2}} - \\frac{0.084 k_{\\phi\\phi} \\left(\\frac{d}{d y} \\phi\\right)^{2}}{c_{s}^{2}} + \\frac{0.668 k_{\\phi\\phi} \\left(\\frac{d}{d z} \\phi\\right)^{2}}{c_{s}^{2}} - \\frac{0.584 k_{\\psi\\psi} \\left(\\frac{d}{d x} \\psi\\right)^{2}}{c_{s}^{2}} - \\frac{0.084 k_{\\psi\\psi} \\left(\\frac{d}{d y} \\psi\\right)^{2}}{c_{s}^{2}} + \\frac{0.668 k_{\\psi\\psi} \\left(\\frac{d}{d z} \\psi\\right)^{2}}{c_{s}^{2}} - \\frac{0.584 k_{\\rho\\rho} \\left(\\frac{d}{d x} \\rho\\right)^{2}}{c_{s}^{2}} - \\frac{0.084 k_{\\rho\\rho} \\left(\\frac{d}{d y} \\rho\\right)^{2}}{c_{s}^{2}} + \\frac{0.668 k_{\\rho\\rho} \\left(\\frac{d}{d z} \\rho\\right)^{2}}{c_{s}^{2}} + \\frac{2.22044604925031 \\cdot 10^{-16} p_{b}}{c_{s}^{2}}$</td>\n",
       "                            <td style=\"border:none\">$\\omega$</td>\n",
       "                         </tr>\n",
       "</table>"
      ],
      "text/plain": [
       "<lbmpy.methods.momentbased.momentbasedmethod.MomentBasedLbMethod at 0x7f634b0e9340>"
      ]
     },
     "execution_count": 274,
     "metadata": {},
     "output_type": "execute_result"
    }
   ],
   "source": [
    "omega = sp.symbols(\"omega\")\n",
    "relaxation_rate_dict = {moment : omega for moment in moments_unpacked}\n",
    "\n",
    "cqc = DensityVelocityComputation(test_stencil, True, False)\n",
    "\n",
    "method = create_from_equilibrium(test_stencil, equilibrium, cqc, relaxation_rate_dict)\n",
    "method"
   ]
  },
  {
   "cell_type": "code",
   "execution_count": null,
   "id": "5e53592b-9b37-4248-bd6a-d0028f1d4370",
   "metadata": {},
   "outputs": [],
   "source": []
  },
  {
   "cell_type": "code",
   "execution_count": null,
   "id": "fdef08cb-5db7-4e54-8139-993695921b81",
   "metadata": {},
   "outputs": [],
   "source": []
  },
  {
   "cell_type": "code",
   "execution_count": null,
   "id": "8c2bc5e9-9c54-43ef-b381-a0a35bf3ae8a",
   "metadata": {},
   "outputs": [],
   "source": []
  }
 ],
 "metadata": {
  "kernelspec": {
   "display_name": "Python 3 (ipykernel)",
   "language": "python",
   "name": "python3"
  },
  "language_info": {
   "codemirror_mode": {
    "name": "ipython",
    "version": 3
   },
   "file_extension": ".py",
   "mimetype": "text/x-python",
   "name": "python",
   "nbconvert_exporter": "python",
   "pygments_lexer": "ipython3",
   "version": "3.8.10"
  }
 },
 "nbformat": 4,
 "nbformat_minor": 5
}
